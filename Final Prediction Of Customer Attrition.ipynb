{
 "cells": [
  {
   "cell_type": "markdown",
   "metadata": {},
   "source": [
    "# Applying Seeding Function for reproducibility"
   ]
  },
  {
   "cell_type": "code",
   "execution_count": 1,
   "metadata": {},
   "outputs": [],
   "source": [
    "from numpy.random import seed"
   ]
  },
  {
   "cell_type": "code",
   "execution_count": 2,
   "metadata": {},
   "outputs": [],
   "source": [
    "seed(1)"
   ]
  },
  {
   "cell_type": "markdown",
   "metadata": {},
   "source": [
    "# Importing necessary libraries"
   ]
  },
  {
   "cell_type": "code",
   "execution_count": 181,
   "metadata": {},
   "outputs": [],
   "source": [
    "import pandas as pd\n",
    "import matplotlib.pyplot as plt\n",
    "import seaborn as sns\n",
    "import numpy as np\n",
    "from sklearn.feature_selection import SelectFromModel\n",
    "from sklearn.linear_model import Lasso\n",
    "from sklearn.model_selection import train_test_split\n",
    "from sklearn.linear_model import LinearRegression\n",
    "from sklearn.svm import SVR\n",
    "from sklearn.ensemble import RandomForestRegressor\n",
    "from sklearn.tree import DecisionTreeRegressor\n",
    "from sklearn.metrics import mean_squared_error\n",
    "from sklearn.neighbors import KNeighborsRegressor \n",
    "from sklearn.model_selection import RandomizedSearchCV\n",
    "from sklearn.preprocessing import LabelEncoder\n",
    "%matplotlib inline\n",
    "pd.pandas.set_option('display.max_columns',None)"
   ]
  },
  {
   "cell_type": "markdown",
   "metadata": {},
   "source": [
    "# Loading Training Data"
   ]
  },
  {
   "cell_type": "code",
   "execution_count": 4,
   "metadata": {},
   "outputs": [],
   "source": [
    "data=pd.read_csv(\"Customer_attrition/Train.csv\")"
   ]
  },
  {
   "cell_type": "code",
   "execution_count": 5,
   "metadata": {},
   "outputs": [
    {
     "data": {
      "text/html": [
       "<div>\n",
       "<style scoped>\n",
       "    .dataframe tbody tr th:only-of-type {\n",
       "        vertical-align: middle;\n",
       "    }\n",
       "\n",
       "    .dataframe tbody tr th {\n",
       "        vertical-align: top;\n",
       "    }\n",
       "\n",
       "    .dataframe thead th {\n",
       "        text-align: right;\n",
       "    }\n",
       "</style>\n",
       "<table border=\"1\" class=\"dataframe\">\n",
       "  <thead>\n",
       "    <tr style=\"text-align: right;\">\n",
       "      <th></th>\n",
       "      <th>Employee_ID</th>\n",
       "      <th>Gender</th>\n",
       "      <th>Age</th>\n",
       "      <th>Education_Level</th>\n",
       "      <th>Relationship_Status</th>\n",
       "      <th>Hometown</th>\n",
       "      <th>Unit</th>\n",
       "      <th>Decision_skill_possess</th>\n",
       "      <th>Time_of_service</th>\n",
       "      <th>Time_since_promotion</th>\n",
       "      <th>growth_rate</th>\n",
       "      <th>Travel_Rate</th>\n",
       "      <th>Post_Level</th>\n",
       "      <th>Pay_Scale</th>\n",
       "      <th>Compensation_and_Benefits</th>\n",
       "      <th>Work_Life_balance</th>\n",
       "      <th>VAR1</th>\n",
       "      <th>VAR2</th>\n",
       "      <th>VAR3</th>\n",
       "      <th>VAR4</th>\n",
       "      <th>VAR5</th>\n",
       "      <th>VAR6</th>\n",
       "      <th>VAR7</th>\n",
       "      <th>Attrition_rate</th>\n",
       "    </tr>\n",
       "  </thead>\n",
       "  <tbody>\n",
       "    <tr>\n",
       "      <th>0</th>\n",
       "      <td>EID_23371</td>\n",
       "      <td>F</td>\n",
       "      <td>42.0</td>\n",
       "      <td>4</td>\n",
       "      <td>Married</td>\n",
       "      <td>Franklin</td>\n",
       "      <td>IT</td>\n",
       "      <td>Conceptual</td>\n",
       "      <td>4.0</td>\n",
       "      <td>4</td>\n",
       "      <td>33</td>\n",
       "      <td>1</td>\n",
       "      <td>1</td>\n",
       "      <td>7.0</td>\n",
       "      <td>type2</td>\n",
       "      <td>3.0</td>\n",
       "      <td>4</td>\n",
       "      <td>0.7516</td>\n",
       "      <td>1.8688</td>\n",
       "      <td>2.0</td>\n",
       "      <td>4</td>\n",
       "      <td>5</td>\n",
       "      <td>3</td>\n",
       "      <td>0.1841</td>\n",
       "    </tr>\n",
       "    <tr>\n",
       "      <th>1</th>\n",
       "      <td>EID_18000</td>\n",
       "      <td>M</td>\n",
       "      <td>24.0</td>\n",
       "      <td>3</td>\n",
       "      <td>Single</td>\n",
       "      <td>Springfield</td>\n",
       "      <td>Logistics</td>\n",
       "      <td>Analytical</td>\n",
       "      <td>5.0</td>\n",
       "      <td>4</td>\n",
       "      <td>36</td>\n",
       "      <td>0</td>\n",
       "      <td>3</td>\n",
       "      <td>6.0</td>\n",
       "      <td>type2</td>\n",
       "      <td>4.0</td>\n",
       "      <td>3</td>\n",
       "      <td>-0.9612</td>\n",
       "      <td>-0.4537</td>\n",
       "      <td>2.0</td>\n",
       "      <td>3</td>\n",
       "      <td>5</td>\n",
       "      <td>3</td>\n",
       "      <td>0.0670</td>\n",
       "    </tr>\n",
       "    <tr>\n",
       "      <th>2</th>\n",
       "      <td>EID_3891</td>\n",
       "      <td>F</td>\n",
       "      <td>58.0</td>\n",
       "      <td>3</td>\n",
       "      <td>Married</td>\n",
       "      <td>Clinton</td>\n",
       "      <td>Quality</td>\n",
       "      <td>Conceptual</td>\n",
       "      <td>27.0</td>\n",
       "      <td>3</td>\n",
       "      <td>51</td>\n",
       "      <td>0</td>\n",
       "      <td>2</td>\n",
       "      <td>8.0</td>\n",
       "      <td>type2</td>\n",
       "      <td>1.0</td>\n",
       "      <td>4</td>\n",
       "      <td>-0.9612</td>\n",
       "      <td>-0.4537</td>\n",
       "      <td>3.0</td>\n",
       "      <td>3</td>\n",
       "      <td>8</td>\n",
       "      <td>3</td>\n",
       "      <td>0.0851</td>\n",
       "    </tr>\n",
       "    <tr>\n",
       "      <th>3</th>\n",
       "      <td>EID_17492</td>\n",
       "      <td>F</td>\n",
       "      <td>26.0</td>\n",
       "      <td>3</td>\n",
       "      <td>Single</td>\n",
       "      <td>Lebanon</td>\n",
       "      <td>Human Resource Management</td>\n",
       "      <td>Behavioral</td>\n",
       "      <td>4.0</td>\n",
       "      <td>3</td>\n",
       "      <td>56</td>\n",
       "      <td>1</td>\n",
       "      <td>3</td>\n",
       "      <td>8.0</td>\n",
       "      <td>type2</td>\n",
       "      <td>1.0</td>\n",
       "      <td>3</td>\n",
       "      <td>-1.8176</td>\n",
       "      <td>-0.4537</td>\n",
       "      <td>NaN</td>\n",
       "      <td>3</td>\n",
       "      <td>7</td>\n",
       "      <td>3</td>\n",
       "      <td>0.0668</td>\n",
       "    </tr>\n",
       "    <tr>\n",
       "      <th>4</th>\n",
       "      <td>EID_22534</td>\n",
       "      <td>F</td>\n",
       "      <td>31.0</td>\n",
       "      <td>1</td>\n",
       "      <td>Married</td>\n",
       "      <td>Springfield</td>\n",
       "      <td>Logistics</td>\n",
       "      <td>Conceptual</td>\n",
       "      <td>5.0</td>\n",
       "      <td>4</td>\n",
       "      <td>62</td>\n",
       "      <td>1</td>\n",
       "      <td>3</td>\n",
       "      <td>2.0</td>\n",
       "      <td>type3</td>\n",
       "      <td>3.0</td>\n",
       "      <td>1</td>\n",
       "      <td>0.7516</td>\n",
       "      <td>-0.4537</td>\n",
       "      <td>2.0</td>\n",
       "      <td>2</td>\n",
       "      <td>8</td>\n",
       "      <td>2</td>\n",
       "      <td>0.1827</td>\n",
       "    </tr>\n",
       "    <tr>\n",
       "      <th>5</th>\n",
       "      <td>EID_2278</td>\n",
       "      <td>M</td>\n",
       "      <td>54.0</td>\n",
       "      <td>3</td>\n",
       "      <td>Married</td>\n",
       "      <td>Lebanon</td>\n",
       "      <td>Purchasing</td>\n",
       "      <td>Conceptual</td>\n",
       "      <td>19.0</td>\n",
       "      <td>1</td>\n",
       "      <td>21</td>\n",
       "      <td>2</td>\n",
       "      <td>5</td>\n",
       "      <td>9.0</td>\n",
       "      <td>type2</td>\n",
       "      <td>1.0</td>\n",
       "      <td>3</td>\n",
       "      <td>-1.8176</td>\n",
       "      <td>1.8688</td>\n",
       "      <td>2.0</td>\n",
       "      <td>2</td>\n",
       "      <td>8</td>\n",
       "      <td>3</td>\n",
       "      <td>0.7613</td>\n",
       "    </tr>\n",
       "    <tr>\n",
       "      <th>6</th>\n",
       "      <td>EID_18588</td>\n",
       "      <td>F</td>\n",
       "      <td>21.0</td>\n",
       "      <td>4</td>\n",
       "      <td>Married</td>\n",
       "      <td>Springfield</td>\n",
       "      <td>Purchasing</td>\n",
       "      <td>Directive</td>\n",
       "      <td>2.0</td>\n",
       "      <td>1</td>\n",
       "      <td>50</td>\n",
       "      <td>1</td>\n",
       "      <td>1</td>\n",
       "      <td>6.0</td>\n",
       "      <td>type2</td>\n",
       "      <td>2.0</td>\n",
       "      <td>3</td>\n",
       "      <td>-0.9612</td>\n",
       "      <td>0.7075</td>\n",
       "      <td>2.0</td>\n",
       "      <td>3</td>\n",
       "      <td>7</td>\n",
       "      <td>3</td>\n",
       "      <td>0.2819</td>\n",
       "    </tr>\n",
       "    <tr>\n",
       "      <th>7</th>\n",
       "      <td>EID_1235</td>\n",
       "      <td>F</td>\n",
       "      <td>NaN</td>\n",
       "      <td>3</td>\n",
       "      <td>Married</td>\n",
       "      <td>Springfield</td>\n",
       "      <td>Sales</td>\n",
       "      <td>Directive</td>\n",
       "      <td>34.0</td>\n",
       "      <td>4</td>\n",
       "      <td>23</td>\n",
       "      <td>1</td>\n",
       "      <td>4</td>\n",
       "      <td>6.0</td>\n",
       "      <td>type3</td>\n",
       "      <td>2.0</td>\n",
       "      <td>3</td>\n",
       "      <td>-0.1048</td>\n",
       "      <td>-0.4537</td>\n",
       "      <td>2.0</td>\n",
       "      <td>3</td>\n",
       "      <td>9</td>\n",
       "      <td>3</td>\n",
       "      <td>0.1169</td>\n",
       "    </tr>\n",
       "    <tr>\n",
       "      <th>8</th>\n",
       "      <td>EID_10197</td>\n",
       "      <td>M</td>\n",
       "      <td>40.0</td>\n",
       "      <td>4</td>\n",
       "      <td>Single</td>\n",
       "      <td>Springfield</td>\n",
       "      <td>Production</td>\n",
       "      <td>Analytical</td>\n",
       "      <td>13.0</td>\n",
       "      <td>1</td>\n",
       "      <td>49</td>\n",
       "      <td>0</td>\n",
       "      <td>1</td>\n",
       "      <td>9.0</td>\n",
       "      <td>type0</td>\n",
       "      <td>4.0</td>\n",
       "      <td>1</td>\n",
       "      <td>NaN</td>\n",
       "      <td>1.8688</td>\n",
       "      <td>2.0</td>\n",
       "      <td>5</td>\n",
       "      <td>6</td>\n",
       "      <td>3</td>\n",
       "      <td>0.1968</td>\n",
       "    </tr>\n",
       "    <tr>\n",
       "      <th>9</th>\n",
       "      <td>EID_21262</td>\n",
       "      <td>M</td>\n",
       "      <td>45.0</td>\n",
       "      <td>3</td>\n",
       "      <td>Married</td>\n",
       "      <td>Lebanon</td>\n",
       "      <td>IT</td>\n",
       "      <td>Directive</td>\n",
       "      <td>21.0</td>\n",
       "      <td>4</td>\n",
       "      <td>34</td>\n",
       "      <td>0</td>\n",
       "      <td>2</td>\n",
       "      <td>5.0</td>\n",
       "      <td>type3</td>\n",
       "      <td>4.0</td>\n",
       "      <td>3</td>\n",
       "      <td>0.7516</td>\n",
       "      <td>-0.4537</td>\n",
       "      <td>2.0</td>\n",
       "      <td>4</td>\n",
       "      <td>8</td>\n",
       "      <td>3</td>\n",
       "      <td>0.2870</td>\n",
       "    </tr>\n",
       "  </tbody>\n",
       "</table>\n",
       "</div>"
      ],
      "text/plain": [
       "  Employee_ID Gender   Age  Education_Level Relationship_Status     Hometown  \\\n",
       "0   EID_23371      F  42.0                4             Married     Franklin   \n",
       "1   EID_18000      M  24.0                3              Single  Springfield   \n",
       "2    EID_3891      F  58.0                3             Married      Clinton   \n",
       "3   EID_17492      F  26.0                3              Single      Lebanon   \n",
       "4   EID_22534      F  31.0                1             Married  Springfield   \n",
       "5    EID_2278      M  54.0                3             Married      Lebanon   \n",
       "6   EID_18588      F  21.0                4             Married  Springfield   \n",
       "7    EID_1235      F   NaN                3             Married  Springfield   \n",
       "8   EID_10197      M  40.0                4              Single  Springfield   \n",
       "9   EID_21262      M  45.0                3             Married      Lebanon   \n",
       "\n",
       "                        Unit Decision_skill_possess  Time_of_service  \\\n",
       "0                         IT             Conceptual              4.0   \n",
       "1                  Logistics             Analytical              5.0   \n",
       "2                    Quality             Conceptual             27.0   \n",
       "3  Human Resource Management             Behavioral              4.0   \n",
       "4                  Logistics             Conceptual              5.0   \n",
       "5                 Purchasing             Conceptual             19.0   \n",
       "6                 Purchasing              Directive              2.0   \n",
       "7                      Sales              Directive             34.0   \n",
       "8                 Production             Analytical             13.0   \n",
       "9                         IT              Directive             21.0   \n",
       "\n",
       "   Time_since_promotion  growth_rate  Travel_Rate  Post_Level  Pay_Scale  \\\n",
       "0                     4           33            1           1        7.0   \n",
       "1                     4           36            0           3        6.0   \n",
       "2                     3           51            0           2        8.0   \n",
       "3                     3           56            1           3        8.0   \n",
       "4                     4           62            1           3        2.0   \n",
       "5                     1           21            2           5        9.0   \n",
       "6                     1           50            1           1        6.0   \n",
       "7                     4           23            1           4        6.0   \n",
       "8                     1           49            0           1        9.0   \n",
       "9                     4           34            0           2        5.0   \n",
       "\n",
       "  Compensation_and_Benefits  Work_Life_balance  VAR1    VAR2    VAR3  VAR4  \\\n",
       "0                     type2                3.0     4  0.7516  1.8688   2.0   \n",
       "1                     type2                4.0     3 -0.9612 -0.4537   2.0   \n",
       "2                     type2                1.0     4 -0.9612 -0.4537   3.0   \n",
       "3                     type2                1.0     3 -1.8176 -0.4537   NaN   \n",
       "4                     type3                3.0     1  0.7516 -0.4537   2.0   \n",
       "5                     type2                1.0     3 -1.8176  1.8688   2.0   \n",
       "6                     type2                2.0     3 -0.9612  0.7075   2.0   \n",
       "7                     type3                2.0     3 -0.1048 -0.4537   2.0   \n",
       "8                     type0                4.0     1     NaN  1.8688   2.0   \n",
       "9                     type3                4.0     3  0.7516 -0.4537   2.0   \n",
       "\n",
       "   VAR5  VAR6  VAR7  Attrition_rate  \n",
       "0     4     5     3          0.1841  \n",
       "1     3     5     3          0.0670  \n",
       "2     3     8     3          0.0851  \n",
       "3     3     7     3          0.0668  \n",
       "4     2     8     2          0.1827  \n",
       "5     2     8     3          0.7613  \n",
       "6     3     7     3          0.2819  \n",
       "7     3     9     3          0.1169  \n",
       "8     5     6     3          0.1968  \n",
       "9     4     8     3          0.2870  "
      ]
     },
     "execution_count": 5,
     "metadata": {},
     "output_type": "execute_result"
    }
   ],
   "source": [
    "data.head(10)"
   ]
  },
  {
   "cell_type": "markdown",
   "metadata": {},
   "source": [
    "# Data Preprocessing and Cleaning"
   ]
  },
  {
   "cell_type": "code",
   "execution_count": 6,
   "metadata": {},
   "outputs": [
    {
     "name": "stdout",
     "output_type": "stream",
     "text": [
      "The dimensions of the dataset is : (7000, 24)\n"
     ]
    }
   ],
   "source": [
    "# Printing the shape of the column \n",
    "\n",
    "print(\"The dimensions of the dataset is : {}\".format(data.shape))"
   ]
  },
  {
   "cell_type": "code",
   "execution_count": 7,
   "metadata": {},
   "outputs": [
    {
     "name": "stdout",
     "output_type": "stream",
     "text": [
      "Age 0.0589 %missing values\n",
      "Time_of_service 0.0206 %missing values\n",
      "Pay_Scale 0.0013 %missing values\n",
      "Work_Life_balance 0.0016 %missing values\n",
      "VAR2 0.0824 %missing values\n",
      "VAR4 0.0937 %missing values\n"
     ]
    }
   ],
   "source": [
    "# Investigating Nan Values in dataset\n",
    "\n",
    "features_with_nan = [feature for feature in data.columns if data[feature].isnull().sum()>=1]\n",
    "for feature in features_with_nan:\n",
    "    print(feature,np.round(data[feature].isnull().mean(),4),'%missing values')"
   ]
  },
  {
   "cell_type": "code",
   "execution_count": 8,
   "metadata": {},
   "outputs": [
    {
     "data": {
      "text/plain": [
       "<matplotlib.axes._subplots.AxesSubplot at 0x1c307030748>"
      ]
     },
     "execution_count": 8,
     "metadata": {},
     "output_type": "execute_result"
    },
    {
     "data": {
      "image/png": "[encoded data removed]",
      "text/plain": [
       "<Figure size 1440x864 with 1 Axes>"
      ]
     },
     "metadata": {
      "needs_background": "light"
     },
     "output_type": "display_data"
    }
   ],
   "source": [
    "# Visualizing missing values\n",
    "plt.figure(figsize=(20,12))\n",
    "sns.heatmap(data.isnull(),yticklabels=False,cbar=False,cmap=\"viridis\")"
   ]
  },
  {
   "cell_type": "code",
   "execution_count": 9,
   "metadata": {},
   "outputs": [
    {
     "data": {
      "image/png": "[encoded data removed]",
      "text/plain": [
       "<Figure size 432x288 with 1 Axes>"
      ]
     },
     "metadata": {
      "needs_background": "light"
     },
     "output_type": "display_data"
    },
    {
     "data": {
      "image/png": "[encoded data removed]",
      "text/plain": [
       "<Figure size 432x288 with 1 Axes>"
      ]
     },
     "metadata": {
      "needs_background": "light"
     },
     "output_type": "display_data"
    },
    {
     "data": {
      "image/png": "[encoded data removed]",
      "text/plain": [
       "<Figure size 432x288 with 1 Axes>"
      ]
     },
     "metadata": {
      "needs_background": "light"
     },
     "output_type": "display_data"
    },
    {
     "data": {
      "image/png": "[encoded data removed]",
      "text/plain": [
       "<Figure size 432x288 with 1 Axes>"
      ]
     },
     "metadata": {
      "needs_background": "light"
     },
     "output_type": "display_data"
    },
    {
     "data": {
      "image/png": "[encoded data removed]",
      "text/plain": [
       "<Figure size 432x288 with 1 Axes>"
      ]
     },
     "metadata": {
      "needs_background": "light"
     },
     "output_type": "display_data"
    },
    {
     "data": {
      "image/png": "[encoded data removed]",
      "text/plain": [
       "<Figure size 432x288 with 1 Axes>"
      ]
     },
     "metadata": {
      "needs_background": "light"
     },
     "output_type": "display_data"
    }
   ],
   "source": [
    "# Understanding the relationship between missing values and target\n",
    "for feature in features_with_nan:\n",
    "    data_copy = data.copy()\n",
    "    data_copy[feature] = np.where(data[feature].isnull(),1,0)\n",
    "    data_copy.groupby(feature)['Attrition_rate'].median().plot.bar()\n",
    "    plt.title(feature)\n",
    "    plt.show()"
   ]
  },
  {
   "cell_type": "markdown",
   "metadata": {},
   "source": [
    "### Since most of the computed missing variables vary with target variables, therefore, they will be considered for predictions."
   ]
  },
  {
   "cell_type": "code",
   "execution_count": 14,
   "metadata": {},
   "outputs": [
    {
     "name": "stdout",
     "output_type": "stream",
     "text": [
      "The number of numerical features are: 17\n"
     ]
    },
    {
     "data": {
      "text/html": [
       "<div>\n",
       "<style scoped>\n",
       "    .dataframe tbody tr th:only-of-type {\n",
       "        vertical-align: middle;\n",
       "    }\n",
       "\n",
       "    .dataframe tbody tr th {\n",
       "        vertical-align: top;\n",
       "    }\n",
       "\n",
       "    .dataframe thead th {\n",
       "        text-align: right;\n",
       "    }\n",
       "</style>\n",
       "<table border=\"1\" class=\"dataframe\">\n",
       "  <thead>\n",
       "    <tr style=\"text-align: right;\">\n",
       "      <th></th>\n",
       "      <th>Age</th>\n",
       "      <th>Education_Level</th>\n",
       "      <th>Time_of_service</th>\n",
       "      <th>Time_since_promotion</th>\n",
       "      <th>growth_rate</th>\n",
       "      <th>Travel_Rate</th>\n",
       "      <th>Post_Level</th>\n",
       "      <th>Pay_Scale</th>\n",
       "      <th>Work_Life_balance</th>\n",
       "      <th>VAR1</th>\n",
       "      <th>VAR2</th>\n",
       "      <th>VAR3</th>\n",
       "      <th>VAR4</th>\n",
       "      <th>VAR5</th>\n",
       "      <th>VAR6</th>\n",
       "      <th>VAR7</th>\n",
       "      <th>Attrition_rate</th>\n",
       "    </tr>\n",
       "  </thead>\n",
       "  <tbody>\n",
       "    <tr>\n",
       "      <th>0</th>\n",
       "      <td>42.0</td>\n",
       "      <td>4</td>\n",
       "      <td>4.0</td>\n",
       "      <td>4</td>\n",
       "      <td>33</td>\n",
       "      <td>1</td>\n",
       "      <td>1</td>\n",
       "      <td>7.0</td>\n",
       "      <td>3.0</td>\n",
       "      <td>4</td>\n",
       "      <td>0.7516</td>\n",
       "      <td>1.8688</td>\n",
       "      <td>2.0</td>\n",
       "      <td>4</td>\n",
       "      <td>5</td>\n",
       "      <td>3</td>\n",
       "      <td>0.1841</td>\n",
       "    </tr>\n",
       "    <tr>\n",
       "      <th>1</th>\n",
       "      <td>24.0</td>\n",
       "      <td>3</td>\n",
       "      <td>5.0</td>\n",
       "      <td>4</td>\n",
       "      <td>36</td>\n",
       "      <td>0</td>\n",
       "      <td>3</td>\n",
       "      <td>6.0</td>\n",
       "      <td>4.0</td>\n",
       "      <td>3</td>\n",
       "      <td>-0.9612</td>\n",
       "      <td>-0.4537</td>\n",
       "      <td>2.0</td>\n",
       "      <td>3</td>\n",
       "      <td>5</td>\n",
       "      <td>3</td>\n",
       "      <td>0.0670</td>\n",
       "    </tr>\n",
       "    <tr>\n",
       "      <th>2</th>\n",
       "      <td>58.0</td>\n",
       "      <td>3</td>\n",
       "      <td>27.0</td>\n",
       "      <td>3</td>\n",
       "      <td>51</td>\n",
       "      <td>0</td>\n",
       "      <td>2</td>\n",
       "      <td>8.0</td>\n",
       "      <td>1.0</td>\n",
       "      <td>4</td>\n",
       "      <td>-0.9612</td>\n",
       "      <td>-0.4537</td>\n",
       "      <td>3.0</td>\n",
       "      <td>3</td>\n",
       "      <td>8</td>\n",
       "      <td>3</td>\n",
       "      <td>0.0851</td>\n",
       "    </tr>\n",
       "    <tr>\n",
       "      <th>3</th>\n",
       "      <td>26.0</td>\n",
       "      <td>3</td>\n",
       "      <td>4.0</td>\n",
       "      <td>3</td>\n",
       "      <td>56</td>\n",
       "      <td>1</td>\n",
       "      <td>3</td>\n",
       "      <td>8.0</td>\n",
       "      <td>1.0</td>\n",
       "      <td>3</td>\n",
       "      <td>-1.8176</td>\n",
       "      <td>-0.4537</td>\n",
       "      <td>NaN</td>\n",
       "      <td>3</td>\n",
       "      <td>7</td>\n",
       "      <td>3</td>\n",
       "      <td>0.0668</td>\n",
       "    </tr>\n",
       "    <tr>\n",
       "      <th>4</th>\n",
       "      <td>31.0</td>\n",
       "      <td>1</td>\n",
       "      <td>5.0</td>\n",
       "      <td>4</td>\n",
       "      <td>62</td>\n",
       "      <td>1</td>\n",
       "      <td>3</td>\n",
       "      <td>2.0</td>\n",
       "      <td>3.0</td>\n",
       "      <td>1</td>\n",
       "      <td>0.7516</td>\n",
       "      <td>-0.4537</td>\n",
       "      <td>2.0</td>\n",
       "      <td>2</td>\n",
       "      <td>8</td>\n",
       "      <td>2</td>\n",
       "      <td>0.1827</td>\n",
       "    </tr>\n",
       "  </tbody>\n",
       "</table>\n",
       "</div>"
      ],
      "text/plain": [
       "    Age  Education_Level  Time_of_service  Time_since_promotion  growth_rate  \\\n",
       "0  42.0                4              4.0                     4           33   \n",
       "1  24.0                3              5.0                     4           36   \n",
       "2  58.0                3             27.0                     3           51   \n",
       "3  26.0                3              4.0                     3           56   \n",
       "4  31.0                1              5.0                     4           62   \n",
       "\n",
       "   Travel_Rate  Post_Level  Pay_Scale  Work_Life_balance  VAR1    VAR2  \\\n",
       "0            1           1        7.0                3.0     4  0.7516   \n",
       "1            0           3        6.0                4.0     3 -0.9612   \n",
       "2            0           2        8.0                1.0     4 -0.9612   \n",
       "3            1           3        8.0                1.0     3 -1.8176   \n",
       "4            1           3        2.0                3.0     1  0.7516   \n",
       "\n",
       "     VAR3  VAR4  VAR5  VAR6  VAR7  Attrition_rate  \n",
       "0  1.8688   2.0     4     5     3          0.1841  \n",
       "1 -0.4537   2.0     3     5     3          0.0670  \n",
       "2 -0.4537   3.0     3     8     3          0.0851  \n",
       "3 -0.4537   NaN     3     7     3          0.0668  \n",
       "4 -0.4537   2.0     2     8     2          0.1827  "
      ]
     },
     "execution_count": 14,
     "metadata": {},
     "output_type": "execute_result"
    }
   ],
   "source": [
    "# Numerical Variables in dataset\n",
    "\n",
    "numerical_feature = [feature for feature in data.columns if data[feature].dtype!='O']\n",
    "print(\"The number of numerical features are: {}\".format(len(numerical_feature)))\n",
    "data[numerical_feature].head()"
   ]
  },
  {
   "cell_type": "code",
   "execution_count": 15,
   "metadata": {},
   "outputs": [
    {
     "name": "stdout",
     "output_type": "stream",
     "text": [
      "The number of discrete variables is: 13\n"
     ]
    }
   ],
   "source": [
    "# Discrete variables in Numerical features\n",
    "discrete_feature = [feature for feature in numerical_feature if len(data[feature].unique())<25 and feature not in ['Attrition_rate'] ]\n",
    "print(\"The number of discrete variables is: {}\".format(len(discrete_feature)))"
   ]
  },
  {
   "cell_type": "code",
   "execution_count": 16,
   "metadata": {},
   "outputs": [
    {
     "data": {
      "text/html": [
       "<div>\n",
       "<style scoped>\n",
       "    .dataframe tbody tr th:only-of-type {\n",
       "        vertical-align: middle;\n",
       "    }\n",
       "\n",
       "    .dataframe tbody tr th {\n",
       "        vertical-align: top;\n",
       "    }\n",
       "\n",
       "    .dataframe thead th {\n",
       "        text-align: right;\n",
       "    }\n",
       "</style>\n",
       "<table border=\"1\" class=\"dataframe\">\n",
       "  <thead>\n",
       "    <tr style=\"text-align: right;\">\n",
       "      <th></th>\n",
       "      <th>Education_Level</th>\n",
       "      <th>Time_since_promotion</th>\n",
       "      <th>Travel_Rate</th>\n",
       "      <th>Post_Level</th>\n",
       "      <th>Pay_Scale</th>\n",
       "      <th>Work_Life_balance</th>\n",
       "      <th>VAR1</th>\n",
       "      <th>VAR2</th>\n",
       "      <th>VAR3</th>\n",
       "      <th>VAR4</th>\n",
       "      <th>VAR5</th>\n",
       "      <th>VAR6</th>\n",
       "      <th>VAR7</th>\n",
       "    </tr>\n",
       "  </thead>\n",
       "  <tbody>\n",
       "    <tr>\n",
       "      <th>0</th>\n",
       "      <td>4</td>\n",
       "      <td>4</td>\n",
       "      <td>1</td>\n",
       "      <td>1</td>\n",
       "      <td>7.0</td>\n",
       "      <td>3.0</td>\n",
       "      <td>4</td>\n",
       "      <td>0.7516</td>\n",
       "      <td>1.8688</td>\n",
       "      <td>2.0</td>\n",
       "      <td>4</td>\n",
       "      <td>5</td>\n",
       "      <td>3</td>\n",
       "    </tr>\n",
       "    <tr>\n",
       "      <th>1</th>\n",
       "      <td>3</td>\n",
       "      <td>4</td>\n",
       "      <td>0</td>\n",
       "      <td>3</td>\n",
       "      <td>6.0</td>\n",
       "      <td>4.0</td>\n",
       "      <td>3</td>\n",
       "      <td>-0.9612</td>\n",
       "      <td>-0.4537</td>\n",
       "      <td>2.0</td>\n",
       "      <td>3</td>\n",
       "      <td>5</td>\n",
       "      <td>3</td>\n",
       "    </tr>\n",
       "    <tr>\n",
       "      <th>2</th>\n",
       "      <td>3</td>\n",
       "      <td>3</td>\n",
       "      <td>0</td>\n",
       "      <td>2</td>\n",
       "      <td>8.0</td>\n",
       "      <td>1.0</td>\n",
       "      <td>4</td>\n",
       "      <td>-0.9612</td>\n",
       "      <td>-0.4537</td>\n",
       "      <td>3.0</td>\n",
       "      <td>3</td>\n",
       "      <td>8</td>\n",
       "      <td>3</td>\n",
       "    </tr>\n",
       "    <tr>\n",
       "      <th>3</th>\n",
       "      <td>3</td>\n",
       "      <td>3</td>\n",
       "      <td>1</td>\n",
       "      <td>3</td>\n",
       "      <td>8.0</td>\n",
       "      <td>1.0</td>\n",
       "      <td>3</td>\n",
       "      <td>-1.8176</td>\n",
       "      <td>-0.4537</td>\n",
       "      <td>NaN</td>\n",
       "      <td>3</td>\n",
       "      <td>7</td>\n",
       "      <td>3</td>\n",
       "    </tr>\n",
       "    <tr>\n",
       "      <th>4</th>\n",
       "      <td>1</td>\n",
       "      <td>4</td>\n",
       "      <td>1</td>\n",
       "      <td>3</td>\n",
       "      <td>2.0</td>\n",
       "      <td>3.0</td>\n",
       "      <td>1</td>\n",
       "      <td>0.7516</td>\n",
       "      <td>-0.4537</td>\n",
       "      <td>2.0</td>\n",
       "      <td>2</td>\n",
       "      <td>8</td>\n",
       "      <td>2</td>\n",
       "    </tr>\n",
       "  </tbody>\n",
       "</table>\n",
       "</div>"
      ],
      "text/plain": [
       "   Education_Level  Time_since_promotion  Travel_Rate  Post_Level  Pay_Scale  \\\n",
       "0                4                     4            1           1        7.0   \n",
       "1                3                     4            0           3        6.0   \n",
       "2                3                     3            0           2        8.0   \n",
       "3                3                     3            1           3        8.0   \n",
       "4                1                     4            1           3        2.0   \n",
       "\n",
       "   Work_Life_balance  VAR1    VAR2    VAR3  VAR4  VAR5  VAR6  VAR7  \n",
       "0                3.0     4  0.7516  1.8688   2.0     4     5     3  \n",
       "1                4.0     3 -0.9612 -0.4537   2.0     3     5     3  \n",
       "2                1.0     4 -0.9612 -0.4537   3.0     3     8     3  \n",
       "3                1.0     3 -1.8176 -0.4537   NaN     3     7     3  \n",
       "4                3.0     1  0.7516 -0.4537   2.0     2     8     2  "
      ]
     },
     "execution_count": 16,
     "metadata": {},
     "output_type": "execute_result"
    }
   ],
   "source": [
    "data[discrete_feature].head()"
   ]
  },
  {
   "cell_type": "code",
   "execution_count": 17,
   "metadata": {},
   "outputs": [
    {
     "data": {
      "image/png": "[encoded data removed]",
      "text/plain": [
       "<Figure size 432x288 with 1 Axes>"
      ]
     },
     "metadata": {
      "needs_background": "light"
     },
     "output_type": "display_data"
    },
    {
     "data": {
      "image/png": "[encoded data removed]",
      "text/plain": [
       "<Figure size 432x288 with 1 Axes>"
      ]
     },
     "metadata": {
      "needs_background": "light"
     },
     "output_type": "display_data"
    },
    {
     "data": {
      "image/png": "[encoded data removed]",
      "text/plain": [
       "<Figure size 432x288 with 1 Axes>"
      ]
     },
     "metadata": {
      "needs_background": "light"
     },
     "output_type": "display_data"
    },
    {
     "data": {
      "image/png": "[encoded data removed]",
      "text/plain": [
       "<Figure size 432x288 with 1 Axes>"
      ]
     },
     "metadata": {
      "needs_background": "light"
     },
     "output_type": "display_data"
    },
    {
     "data": {
      "image/png": "[encoded data removed]",
      "text/plain": [
       "<Figure size 432x288 with 1 Axes>"
      ]
     },
     "metadata": {
      "needs_background": "light"
     },
     "output_type": "display_data"
    },
    {
     "data": {
      "image/png": "[encoded data removed]",
      "text/plain": [
       "<Figure size 432x288 with 1 Axes>"
      ]
     },
     "metadata": {
      "needs_background": "light"
     },
     "output_type": "display_data"
    },
    {
     "data": {
      "image/png": "[encoded data removed]",
      "text/plain": [
       "<Figure size 432x288 with 1 Axes>"
      ]
     },
     "metadata": {
      "needs_background": "light"
     },
     "output_type": "display_data"
    },
    {
     "data": {
      "image/png": "[encoded data removed]",
      "text/plain": [
       "<Figure size 432x288 with 1 Axes>"
      ]
     },
     "metadata": {
      "needs_background": "light"
     },
     "output_type": "display_data"
    },
    {
     "data": {
      "image/png": "[encoded data removed]",
      "text/plain": [
       "<Figure size 432x288 with 1 Axes>"
      ]
     },
     "metadata": {
      "needs_background": "light"
     },
     "output_type": "display_data"
    },
    {
     "data": {
      "image/png": "[encoded data removed]",
      "text/plain": [
       "<Figure size 432x288 with 1 Axes>"
      ]
     },
     "metadata": {
      "needs_background": "light"
     },
     "output_type": "display_data"
    },
    {
     "data": {
      "image/png": "[encoded data removed]",
      "text/plain": [
       "<Figure size 432x288 with 1 Axes>"
      ]
     },
     "metadata": {
      "needs_background": "light"
     },
     "output_type": "display_data"
    },
    {
     "data": {
      "image/png": "[encoded data removed]",
      "text/plain": [
       "<Figure size 432x288 with 1 Axes>"
      ]
     },
     "metadata": {
      "needs_background": "light"
     },
     "output_type": "display_data"
    },
    {
     "data": {
      "image/png": "[encoded data removed]",
      "text/plain": [
       "<Figure size 432x288 with 1 Axes>"
      ]
     },
     "metadata": {
      "needs_background": "light"
     },
     "output_type": "display_data"
    }
   ],
   "source": [
    "#Relationship between discrete and target\n",
    "for feature in discrete_feature:\n",
    "    data_copy = data.copy()\n",
    "    data_copy.groupby(feature)['Attrition_rate'].median().plot.bar()\n",
    "    plt.xlabel(feature)\n",
    "    plt.ylabel('Attrition Rate')\n",
    "    plt.show()"
   ]
  },
  {
   "cell_type": "code",
   "execution_count": 18,
   "metadata": {},
   "outputs": [
    {
     "name": "stdout",
     "output_type": "stream",
     "text": [
      "The number of continuous feature is:4 \n"
     ]
    }
   ],
   "source": [
    "# Continuous Distribution\n",
    "\n",
    "continuous_feature = [feature for feature in numerical_feature if feature not in discrete_feature]\n",
    "print(\"The number of continuous feature is:{} \".format(len(continuous_feature)))"
   ]
  },
  {
   "cell_type": "code",
   "execution_count": 19,
   "metadata": {},
   "outputs": [
    {
     "data": {
      "image/png": "[encoded data removed]",
      "text/plain": [
       "<Figure size 432x288 with 1 Axes>"
      ]
     },
     "metadata": {
      "needs_background": "light"
     },
     "output_type": "display_data"
    },
    {
     "data": {
      "image/png": "[encoded data removed]",
      "text/plain": [
       "<Figure size 432x288 with 1 Axes>"
      ]
     },
     "metadata": {
      "needs_background": "light"
     },
     "output_type": "display_data"
    },
    {
     "data": {
      "image/png": "[encoded data removed]",
      "text/plain": [
       "<Figure size 432x288 with 1 Axes>"
      ]
     },
     "metadata": {
      "needs_background": "light"
     },
     "output_type": "display_data"
    },
    {
     "data": {
      "image/png": "[encoded data removed]",
      "text/plain": [
       "<Figure size 432x288 with 1 Axes>"
      ]
     },
     "metadata": {
      "needs_background": "light"
     },
     "output_type": "display_data"
    }
   ],
   "source": [
    "# Relationship between continous and target variable\n",
    "for feature in continuous_feature:\n",
    "    data_copy = data.copy()\n",
    "    data_copy[feature].hist(bins=25)\n",
    "    plt.xlabel(feature)\n",
    "    plt.ylabel('Attrition Rate')\n",
    "    plt.show()"
   ]
  },
  {
   "cell_type": "code",
   "execution_count": 17,
   "metadata": {},
   "outputs": [
    {
     "name": "stderr",
     "output_type": "stream",
     "text": [
      "c:\\users\\cooldude\\venv\\lib\\site-packages\\ipykernel_launcher.py:8: RuntimeWarning: divide by zero encountered in log\n",
      "  \n"
     ]
    },
    {
     "data": {
      "image/png": "[encoded data removed]",
      "text/plain": [
       "<Figure size 432x288 with 1 Axes>"
      ]
     },
     "metadata": {
      "needs_background": "light"
     },
     "output_type": "display_data"
    },
    {
     "data": {
      "image/png": "[encoded data removed]",
      "text/plain": [
       "<Figure size 432x288 with 1 Axes>"
      ]
     },
     "metadata": {
      "needs_background": "light"
     },
     "output_type": "display_data"
    }
   ],
   "source": [
    "# We will apply log normal Distribution \n",
    "for feature in continuous_feature:\n",
    "    data_copy = data.copy()\n",
    "    if 0 in data_copy[feature].unique():\n",
    "        pass\n",
    "    else:\n",
    "        data_copy[feature] = np.log(data_copy[feature])\n",
    "        data_copy['Attrition_rate'] = np.log(data_copy['Attrition_rate'])\n",
    "        plt.scatter(data_copy[feature],data_copy['Attrition_rate'])\n",
    "        plt.xlabel(feature)\n",
    "        plt.ylabel('Attrition Rate')\n",
    "        plt.title(feature)\n",
    "        plt.show()"
   ]
  },
  {
   "cell_type": "code",
   "execution_count": 18,
   "metadata": {},
   "outputs": [
    {
     "data": {
      "image/png": "[encoded data removed]",
      "text/plain": [
       "<Figure size 432x288 with 1 Axes>"
      ]
     },
     "metadata": {
      "needs_background": "light"
     },
     "output_type": "display_data"
    },
    {
     "data": {
      "image/png": "[encoded data removed]",
      "text/plain": [
       "<Figure size 432x288 with 1 Axes>"
      ]
     },
     "metadata": {
      "needs_background": "light"
     },
     "output_type": "display_data"
    },
    {
     "data": {
      "image/png": "[encoded data removed]",
      "text/plain": [
       "<Figure size 432x288 with 1 Axes>"
      ]
     },
     "metadata": {
      "needs_background": "light"
     },
     "output_type": "display_data"
    },
    {
     "data": {
      "image/png": "[encoded data removed]",
      "text/plain": [
       "<Figure size 432x288 with 1 Axes>"
      ]
     },
     "metadata": {
      "needs_background": "light"
     },
     "output_type": "display_data"
    },
    {
     "data": {
      "image/png": "[encoded data removed]",
      "text/plain": [
       "<Figure size 432x288 with 1 Axes>"
      ]
     },
     "metadata": {
      "needs_background": "light"
     },
     "output_type": "display_data"
    },
    {
     "data": {
      "image/png": "[encoded data removed]",
      "text/plain": [
       "<Figure size 432x288 with 1 Axes>"
      ]
     },
     "metadata": {
      "needs_background": "light"
     },
     "output_type": "display_data"
    },
    {
     "data": {
      "image/png": "[encoded data removed]",
      "text/plain": [
       "<Figure size 432x288 with 1 Axes>"
      ]
     },
     "metadata": {
      "needs_background": "light"
     },
     "output_type": "display_data"
    },
    {
     "name": "stderr",
     "output_type": "stream",
     "text": [
      "c:\\users\\cooldude\\venv\\lib\\site-packages\\ipykernel_launcher.py:8: RuntimeWarning: invalid value encountered in log\n",
      "  \n"
     ]
    },
    {
     "data": {
      "image/png": "[encoded data removed]",
      "text/plain": [
       "<Figure size 432x288 with 1 Axes>"
      ]
     },
     "metadata": {
      "needs_background": "light"
     },
     "output_type": "display_data"
    },
    {
     "name": "stderr",
     "output_type": "stream",
     "text": [
      "c:\\users\\cooldude\\venv\\lib\\site-packages\\ipykernel_launcher.py:8: RuntimeWarning: invalid value encountered in log\n",
      "  \n"
     ]
    },
    {
     "data": {
      "image/png": "[encoded data removed]",
      "text/plain": [
       "<Figure size 432x288 with 1 Axes>"
      ]
     },
     "metadata": {
      "needs_background": "light"
     },
     "output_type": "display_data"
    },
    {
     "data": {
      "image/png": "[encoded data removed]",
      "text/plain": [
       "<Figure size 432x288 with 1 Axes>"
      ]
     },
     "metadata": {
      "needs_background": "light"
     },
     "output_type": "display_data"
    },
    {
     "data": {
      "image/png": "[encoded data removed]",
      "text/plain": [
       "<Figure size 432x288 with 1 Axes>"
      ]
     },
     "metadata": {
      "needs_background": "light"
     },
     "output_type": "display_data"
    },
    {
     "data": {
      "image/png": "[encoded data removed]",
      "text/plain": [
       "<Figure size 432x288 with 1 Axes>"
      ]
     },
     "metadata": {
      "needs_background": "light"
     },
     "output_type": "display_data"
    },
    {
     "data": {
      "image/png": "[encoded data removed]",
      "text/plain": [
       "<Figure size 432x288 with 1 Axes>"
      ]
     },
     "metadata": {
      "needs_background": "light"
     },
     "output_type": "display_data"
    }
   ],
   "source": [
    "#Outliers\n",
    "\n",
    "for feature in numerical_feature:\n",
    "    data_copy = data.copy()\n",
    "    if 0 in data_copy[feature].unique():\n",
    "        pass\n",
    "    else:\n",
    "        data_copy[feature] = np.log(data_copy[feature])\n",
    "        data_copy.boxplot(column=feature)\n",
    "        plt.xlabel(feature)\n",
    "        plt.title(feature)\n",
    "        plt.show()"
   ]
  },
  {
   "cell_type": "code",
   "execution_count": 19,
   "metadata": {},
   "outputs": [
    {
     "data": {
      "text/plain": [
       "<matplotlib.axes._subplots.AxesSubplot at 0x19f8f809898>"
      ]
     },
     "execution_count": 19,
     "metadata": {},
     "output_type": "execute_result"
    },
    {
     "data": {
      "image/png": "[encoded data removed]",
      "text/plain": [
       "<Figure size 1440x864 with 2 Axes>"
      ]
     },
     "metadata": {
      "needs_background": "light"
     },
     "output_type": "display_data"
    }
   ],
   "source": [
    "# Computing the correlation of variables\n",
    "plt.figure(figsize=(20,12))\n",
    "sns.heatmap(data[numerical_feature].corr(),annot=True)"
   ]
  },
  {
   "cell_type": "markdown",
   "metadata": {},
   "source": [
    "### It appears that variables Age and Time_of_service are correlated. It can be a useful information in prediction"
   ]
  },
  {
   "cell_type": "code",
   "execution_count": 20,
   "metadata": {},
   "outputs": [
    {
     "name": "stdout",
     "output_type": "stream",
     "text": [
      "The number of categorical features are : 7\n"
     ]
    }
   ],
   "source": [
    "# Categorical Features\n",
    "categorical_feature = [feature for feature in data.columns if feature not in numerical_feature]\n",
    "print(\"The number of categorical features are : {}\".format(len(categorical_feature)))"
   ]
  },
  {
   "cell_type": "code",
   "execution_count": 21,
   "metadata": {},
   "outputs": [
    {
     "data": {
      "text/html": [
       "<div>\n",
       "<style scoped>\n",
       "    .dataframe tbody tr th:only-of-type {\n",
       "        vertical-align: middle;\n",
       "    }\n",
       "\n",
       "    .dataframe tbody tr th {\n",
       "        vertical-align: top;\n",
       "    }\n",
       "\n",
       "    .dataframe thead th {\n",
       "        text-align: right;\n",
       "    }\n",
       "</style>\n",
       "<table border=\"1\" class=\"dataframe\">\n",
       "  <thead>\n",
       "    <tr style=\"text-align: right;\">\n",
       "      <th></th>\n",
       "      <th>Employee_ID</th>\n",
       "      <th>Gender</th>\n",
       "      <th>Relationship_Status</th>\n",
       "      <th>Hometown</th>\n",
       "      <th>Unit</th>\n",
       "      <th>Decision_skill_possess</th>\n",
       "      <th>Compensation_and_Benefits</th>\n",
       "    </tr>\n",
       "  </thead>\n",
       "  <tbody>\n",
       "    <tr>\n",
       "      <th>0</th>\n",
       "      <td>EID_23371</td>\n",
       "      <td>F</td>\n",
       "      <td>Married</td>\n",
       "      <td>Franklin</td>\n",
       "      <td>IT</td>\n",
       "      <td>Conceptual</td>\n",
       "      <td>type2</td>\n",
       "    </tr>\n",
       "    <tr>\n",
       "      <th>1</th>\n",
       "      <td>EID_18000</td>\n",
       "      <td>M</td>\n",
       "      <td>Single</td>\n",
       "      <td>Springfield</td>\n",
       "      <td>Logistics</td>\n",
       "      <td>Analytical</td>\n",
       "      <td>type2</td>\n",
       "    </tr>\n",
       "    <tr>\n",
       "      <th>2</th>\n",
       "      <td>EID_3891</td>\n",
       "      <td>F</td>\n",
       "      <td>Married</td>\n",
       "      <td>Clinton</td>\n",
       "      <td>Quality</td>\n",
       "      <td>Conceptual</td>\n",
       "      <td>type2</td>\n",
       "    </tr>\n",
       "    <tr>\n",
       "      <th>3</th>\n",
       "      <td>EID_17492</td>\n",
       "      <td>F</td>\n",
       "      <td>Single</td>\n",
       "      <td>Lebanon</td>\n",
       "      <td>Human Resource Management</td>\n",
       "      <td>Behavioral</td>\n",
       "      <td>type2</td>\n",
       "    </tr>\n",
       "    <tr>\n",
       "      <th>4</th>\n",
       "      <td>EID_22534</td>\n",
       "      <td>F</td>\n",
       "      <td>Married</td>\n",
       "      <td>Springfield</td>\n",
       "      <td>Logistics</td>\n",
       "      <td>Conceptual</td>\n",
       "      <td>type3</td>\n",
       "    </tr>\n",
       "  </tbody>\n",
       "</table>\n",
       "</div>"
      ],
      "text/plain": [
       "  Employee_ID Gender Relationship_Status     Hometown  \\\n",
       "0   EID_23371      F             Married     Franklin   \n",
       "1   EID_18000      M              Single  Springfield   \n",
       "2    EID_3891      F             Married      Clinton   \n",
       "3   EID_17492      F              Single      Lebanon   \n",
       "4   EID_22534      F             Married  Springfield   \n",
       "\n",
       "                        Unit Decision_skill_possess Compensation_and_Benefits  \n",
       "0                         IT             Conceptual                     type2  \n",
       "1                  Logistics             Analytical                     type2  \n",
       "2                    Quality             Conceptual                     type2  \n",
       "3  Human Resource Management             Behavioral                     type2  \n",
       "4                  Logistics             Conceptual                     type3  "
      ]
     },
     "execution_count": 21,
     "metadata": {},
     "output_type": "execute_result"
    }
   ],
   "source": [
    "data[categorical_feature].head()"
   ]
  },
  {
   "cell_type": "code",
   "execution_count": 22,
   "metadata": {},
   "outputs": [
    {
     "name": "stdout",
     "output_type": "stream",
     "text": [
      "The feature is Employee_ID and its cardinality is 7000\n",
      "The feature is Gender and its cardinality is 2\n",
      "The feature is Relationship_Status and its cardinality is 2\n",
      "The feature is Hometown and its cardinality is 5\n",
      "The feature is Unit and its cardinality is 12\n",
      "The feature is Decision_skill_possess and its cardinality is 4\n",
      "The feature is Compensation_and_Benefits and its cardinality is 5\n"
     ]
    }
   ],
   "source": [
    "# Determining the cadinality of categorical data\n",
    "for feature in categorical_feature:\n",
    "    print(\"The feature is {} and its cardinality is {}\".format(feature,len(data[feature].unique())))"
   ]
  },
  {
   "cell_type": "code",
   "execution_count": 49,
   "metadata": {},
   "outputs": [
    {
     "data": {
      "image/png": "[encoded data removed]",
      "text/plain": [
       "<Figure size 432x288 with 1 Axes>"
      ]
     },
     "metadata": {
      "needs_background": "light"
     },
     "output_type": "display_data"
    },
    {
     "data": {
      "image/png": "[encoded data removed]",
      "text/plain": [
       "<Figure size 432x288 with 1 Axes>"
      ]
     },
     "metadata": {
      "needs_background": "light"
     },
     "output_type": "display_data"
    },
    {
     "data": {
      "image/png": "[encoded data removed]",
      "text/plain": [
       "<Figure size 432x288 with 1 Axes>"
      ]
     },
     "metadata": {
      "needs_background": "light"
     },
     "output_type": "display_data"
    },
    {
     "data": {
      "image/png": "[encoded data removed]",
      "text/plain": [
       "<Figure size 432x288 with 1 Axes>"
      ]
     },
     "metadata": {
      "needs_background": "light"
     },
     "output_type": "display_data"
    },
    {
     "data": {
      "image/png": "[encoded data removed]",
      "text/plain": [
       "<Figure size 432x288 with 1 Axes>"
      ]
     },
     "metadata": {
      "needs_background": "light"
     },
     "output_type": "display_data"
    },
    {
     "data": {
      "image/png": "[encoded data removed]",
      "text/plain": [
       "<Figure size 432x288 with 1 Axes>"
      ]
     },
     "metadata": {
      "needs_background": "light"
     },
     "output_type": "display_data"
    },
    {
     "data": {
      "image/png": "[encoded data removed]",
      "text/plain": [
       "<Figure size 432x288 with 1 Axes>"
      ]
     },
     "metadata": {
      "needs_background": "light"
     },
     "output_type": "display_data"
    }
   ],
   "source": [
    "# Visualizing relationsip between categorical and target values\n",
    "for feature in categorical_feature:\n",
    "    data_copy = data.copy()\n",
    "    data_copy.groupby(feature)['Attrition_rate'].median().plot.bar()\n",
    "    plt.xlabel(feature)\n",
    "    plt.ylabel('Attrition Rate')\n",
    "    plt.title(feature)\n",
    "    plt.show()"
   ]
  },
  {
   "cell_type": "code",
   "execution_count": 23,
   "metadata": {},
   "outputs": [
    {
     "name": "stdout",
     "output_type": "stream",
     "text": [
      "Age 0.0589 %missing values\n",
      "Time_of_service 0.0206 %missing values\n",
      "Pay_Scale 0.0013 %missing values\n",
      "Work_Life_balance 0.0016 %missing values\n",
      "VAR2 0.0824 %missing values\n",
      "VAR4 0.0937 %missing values\n"
     ]
    }
   ],
   "source": [
    "# Handling Missing Values\n",
    "#Listing Null values in Numerical data\n",
    "numerical_with_nan = [feature for feature in data.columns if data[feature].isnull().sum()>=1 and data[feature].dtypes!='O' ]\n",
    "for feature in numerical_with_nan:\n",
    "    print(feature,np.round(data[feature].isnull().mean(),4),'%missing values')"
   ]
  },
  {
   "cell_type": "code",
   "execution_count": 24,
   "metadata": {},
   "outputs": [
    {
     "data": {
      "text/plain": [
       "Age                  0\n",
       "Time_of_service      0\n",
       "Pay_Scale            0\n",
       "Work_Life_balance    0\n",
       "VAR2                 0\n",
       "VAR4                 0\n",
       "dtype: int64"
      ]
     },
     "execution_count": 24,
     "metadata": {},
     "output_type": "execute_result"
    }
   ],
   "source": [
    "# Filling the missing values with median\n",
    "for feature in numerical_with_nan:\n",
    "    median_value = data[feature].median()\n",
    "    data[feature+'nan'] = np.where(data[feature].isnull(),1,0)\n",
    "    data[feature] = data[feature].fillna(median_value)\n",
    "data[numerical_with_nan].isnull().sum()"
   ]
  },
  {
   "cell_type": "code",
   "execution_count": 25,
   "metadata": {},
   "outputs": [
    {
     "data": {
      "text/html": [
       "<div>\n",
       "<style scoped>\n",
       "    .dataframe tbody tr th:only-of-type {\n",
       "        vertical-align: middle;\n",
       "    }\n",
       "\n",
       "    .dataframe tbody tr th {\n",
       "        vertical-align: top;\n",
       "    }\n",
       "\n",
       "    .dataframe thead th {\n",
       "        text-align: right;\n",
       "    }\n",
       "</style>\n",
       "<table border=\"1\" class=\"dataframe\">\n",
       "  <thead>\n",
       "    <tr style=\"text-align: right;\">\n",
       "      <th></th>\n",
       "      <th>Employee_ID</th>\n",
       "      <th>Gender</th>\n",
       "      <th>Age</th>\n",
       "      <th>Education_Level</th>\n",
       "      <th>Relationship_Status</th>\n",
       "      <th>Hometown</th>\n",
       "      <th>Unit</th>\n",
       "      <th>Decision_skill_possess</th>\n",
       "      <th>Time_of_service</th>\n",
       "      <th>Time_since_promotion</th>\n",
       "      <th>growth_rate</th>\n",
       "      <th>Travel_Rate</th>\n",
       "      <th>Post_Level</th>\n",
       "      <th>Pay_Scale</th>\n",
       "      <th>Compensation_and_Benefits</th>\n",
       "      <th>Work_Life_balance</th>\n",
       "      <th>VAR1</th>\n",
       "      <th>VAR2</th>\n",
       "      <th>VAR3</th>\n",
       "      <th>VAR4</th>\n",
       "      <th>VAR5</th>\n",
       "      <th>VAR6</th>\n",
       "      <th>VAR7</th>\n",
       "      <th>Attrition_rate</th>\n",
       "      <th>Agenan</th>\n",
       "      <th>Time_of_servicenan</th>\n",
       "      <th>Pay_Scalenan</th>\n",
       "      <th>Work_Life_balancenan</th>\n",
       "      <th>VAR2nan</th>\n",
       "      <th>VAR4nan</th>\n",
       "    </tr>\n",
       "  </thead>\n",
       "  <tbody>\n",
       "    <tr>\n",
       "      <th>0</th>\n",
       "      <td>EID_23371</td>\n",
       "      <td>F</td>\n",
       "      <td>42.0</td>\n",
       "      <td>4</td>\n",
       "      <td>Married</td>\n",
       "      <td>Franklin</td>\n",
       "      <td>IT</td>\n",
       "      <td>Conceptual</td>\n",
       "      <td>4.0</td>\n",
       "      <td>4</td>\n",
       "      <td>33</td>\n",
       "      <td>1</td>\n",
       "      <td>1</td>\n",
       "      <td>7.0</td>\n",
       "      <td>type2</td>\n",
       "      <td>3.0</td>\n",
       "      <td>4</td>\n",
       "      <td>0.7516</td>\n",
       "      <td>1.8688</td>\n",
       "      <td>2.0</td>\n",
       "      <td>4</td>\n",
       "      <td>5</td>\n",
       "      <td>3</td>\n",
       "      <td>0.1841</td>\n",
       "      <td>0</td>\n",
       "      <td>0</td>\n",
       "      <td>0</td>\n",
       "      <td>0</td>\n",
       "      <td>0</td>\n",
       "      <td>0</td>\n",
       "    </tr>\n",
       "    <tr>\n",
       "      <th>1</th>\n",
       "      <td>EID_18000</td>\n",
       "      <td>M</td>\n",
       "      <td>24.0</td>\n",
       "      <td>3</td>\n",
       "      <td>Single</td>\n",
       "      <td>Springfield</td>\n",
       "      <td>Logistics</td>\n",
       "      <td>Analytical</td>\n",
       "      <td>5.0</td>\n",
       "      <td>4</td>\n",
       "      <td>36</td>\n",
       "      <td>0</td>\n",
       "      <td>3</td>\n",
       "      <td>6.0</td>\n",
       "      <td>type2</td>\n",
       "      <td>4.0</td>\n",
       "      <td>3</td>\n",
       "      <td>-0.9612</td>\n",
       "      <td>-0.4537</td>\n",
       "      <td>2.0</td>\n",
       "      <td>3</td>\n",
       "      <td>5</td>\n",
       "      <td>3</td>\n",
       "      <td>0.0670</td>\n",
       "      <td>0</td>\n",
       "      <td>0</td>\n",
       "      <td>0</td>\n",
       "      <td>0</td>\n",
       "      <td>0</td>\n",
       "      <td>0</td>\n",
       "    </tr>\n",
       "    <tr>\n",
       "      <th>2</th>\n",
       "      <td>EID_3891</td>\n",
       "      <td>F</td>\n",
       "      <td>58.0</td>\n",
       "      <td>3</td>\n",
       "      <td>Married</td>\n",
       "      <td>Clinton</td>\n",
       "      <td>Quality</td>\n",
       "      <td>Conceptual</td>\n",
       "      <td>27.0</td>\n",
       "      <td>3</td>\n",
       "      <td>51</td>\n",
       "      <td>0</td>\n",
       "      <td>2</td>\n",
       "      <td>8.0</td>\n",
       "      <td>type2</td>\n",
       "      <td>1.0</td>\n",
       "      <td>4</td>\n",
       "      <td>-0.9612</td>\n",
       "      <td>-0.4537</td>\n",
       "      <td>3.0</td>\n",
       "      <td>3</td>\n",
       "      <td>8</td>\n",
       "      <td>3</td>\n",
       "      <td>0.0851</td>\n",
       "      <td>0</td>\n",
       "      <td>0</td>\n",
       "      <td>0</td>\n",
       "      <td>0</td>\n",
       "      <td>0</td>\n",
       "      <td>0</td>\n",
       "    </tr>\n",
       "    <tr>\n",
       "      <th>3</th>\n",
       "      <td>EID_17492</td>\n",
       "      <td>F</td>\n",
       "      <td>26.0</td>\n",
       "      <td>3</td>\n",
       "      <td>Single</td>\n",
       "      <td>Lebanon</td>\n",
       "      <td>Human Resource Management</td>\n",
       "      <td>Behavioral</td>\n",
       "      <td>4.0</td>\n",
       "      <td>3</td>\n",
       "      <td>56</td>\n",
       "      <td>1</td>\n",
       "      <td>3</td>\n",
       "      <td>8.0</td>\n",
       "      <td>type2</td>\n",
       "      <td>1.0</td>\n",
       "      <td>3</td>\n",
       "      <td>-1.8176</td>\n",
       "      <td>-0.4537</td>\n",
       "      <td>2.0</td>\n",
       "      <td>3</td>\n",
       "      <td>7</td>\n",
       "      <td>3</td>\n",
       "      <td>0.0668</td>\n",
       "      <td>0</td>\n",
       "      <td>0</td>\n",
       "      <td>0</td>\n",
       "      <td>0</td>\n",
       "      <td>0</td>\n",
       "      <td>1</td>\n",
       "    </tr>\n",
       "    <tr>\n",
       "      <th>4</th>\n",
       "      <td>EID_22534</td>\n",
       "      <td>F</td>\n",
       "      <td>31.0</td>\n",
       "      <td>1</td>\n",
       "      <td>Married</td>\n",
       "      <td>Springfield</td>\n",
       "      <td>Logistics</td>\n",
       "      <td>Conceptual</td>\n",
       "      <td>5.0</td>\n",
       "      <td>4</td>\n",
       "      <td>62</td>\n",
       "      <td>1</td>\n",
       "      <td>3</td>\n",
       "      <td>2.0</td>\n",
       "      <td>type3</td>\n",
       "      <td>3.0</td>\n",
       "      <td>1</td>\n",
       "      <td>0.7516</td>\n",
       "      <td>-0.4537</td>\n",
       "      <td>2.0</td>\n",
       "      <td>2</td>\n",
       "      <td>8</td>\n",
       "      <td>2</td>\n",
       "      <td>0.1827</td>\n",
       "      <td>0</td>\n",
       "      <td>0</td>\n",
       "      <td>0</td>\n",
       "      <td>0</td>\n",
       "      <td>0</td>\n",
       "      <td>0</td>\n",
       "    </tr>\n",
       "  </tbody>\n",
       "</table>\n",
       "</div>"
      ],
      "text/plain": [
       "  Employee_ID Gender   Age  Education_Level Relationship_Status     Hometown  \\\n",
       "0   EID_23371      F  42.0                4             Married     Franklin   \n",
       "1   EID_18000      M  24.0                3              Single  Springfield   \n",
       "2    EID_3891      F  58.0                3             Married      Clinton   \n",
       "3   EID_17492      F  26.0                3              Single      Lebanon   \n",
       "4   EID_22534      F  31.0                1             Married  Springfield   \n",
       "\n",
       "                        Unit Decision_skill_possess  Time_of_service  \\\n",
       "0                         IT             Conceptual              4.0   \n",
       "1                  Logistics             Analytical              5.0   \n",
       "2                    Quality             Conceptual             27.0   \n",
       "3  Human Resource Management             Behavioral              4.0   \n",
       "4                  Logistics             Conceptual              5.0   \n",
       "\n",
       "   Time_since_promotion  growth_rate  Travel_Rate  Post_Level  Pay_Scale  \\\n",
       "0                     4           33            1           1        7.0   \n",
       "1                     4           36            0           3        6.0   \n",
       "2                     3           51            0           2        8.0   \n",
       "3                     3           56            1           3        8.0   \n",
       "4                     4           62            1           3        2.0   \n",
       "\n",
       "  Compensation_and_Benefits  Work_Life_balance  VAR1    VAR2    VAR3  VAR4  \\\n",
       "0                     type2                3.0     4  0.7516  1.8688   2.0   \n",
       "1                     type2                4.0     3 -0.9612 -0.4537   2.0   \n",
       "2                     type2                1.0     4 -0.9612 -0.4537   3.0   \n",
       "3                     type2                1.0     3 -1.8176 -0.4537   2.0   \n",
       "4                     type3                3.0     1  0.7516 -0.4537   2.0   \n",
       "\n",
       "   VAR5  VAR6  VAR7  Attrition_rate  Agenan  Time_of_servicenan  Pay_Scalenan  \\\n",
       "0     4     5     3          0.1841       0                   0             0   \n",
       "1     3     5     3          0.0670       0                   0             0   \n",
       "2     3     8     3          0.0851       0                   0             0   \n",
       "3     3     7     3          0.0668       0                   0             0   \n",
       "4     2     8     2          0.1827       0                   0             0   \n",
       "\n",
       "   Work_Life_balancenan  VAR2nan  VAR4nan  \n",
       "0                     0        0        0  \n",
       "1                     0        0        0  \n",
       "2                     0        0        0  \n",
       "3                     0        0        1  \n",
       "4                     0        0        0  "
      ]
     },
     "execution_count": 25,
     "metadata": {},
     "output_type": "execute_result"
    }
   ],
   "source": [
    "data.head()"
   ]
  },
  {
   "cell_type": "code",
   "execution_count": 26,
   "metadata": {},
   "outputs": [],
   "source": [
    "# Dropping Employee Id column as it donot contribute in prediction.\n",
    "data = data.drop(columns=['Employee_ID'])"
   ]
  },
  {
   "cell_type": "code",
   "execution_count": 27,
   "metadata": {},
   "outputs": [
    {
     "data": {
      "text/html": [
       "<div>\n",
       "<style scoped>\n",
       "    .dataframe tbody tr th:only-of-type {\n",
       "        vertical-align: middle;\n",
       "    }\n",
       "\n",
       "    .dataframe tbody tr th {\n",
       "        vertical-align: top;\n",
       "    }\n",
       "\n",
       "    .dataframe thead th {\n",
       "        text-align: right;\n",
       "    }\n",
       "</style>\n",
       "<table border=\"1\" class=\"dataframe\">\n",
       "  <thead>\n",
       "    <tr style=\"text-align: right;\">\n",
       "      <th></th>\n",
       "      <th>Gender</th>\n",
       "      <th>Age</th>\n",
       "      <th>Education_Level</th>\n",
       "      <th>Relationship_Status</th>\n",
       "      <th>Hometown</th>\n",
       "      <th>Unit</th>\n",
       "      <th>Decision_skill_possess</th>\n",
       "      <th>Time_of_service</th>\n",
       "      <th>Time_since_promotion</th>\n",
       "      <th>growth_rate</th>\n",
       "      <th>Travel_Rate</th>\n",
       "      <th>Post_Level</th>\n",
       "      <th>Pay_Scale</th>\n",
       "      <th>Compensation_and_Benefits</th>\n",
       "      <th>Work_Life_balance</th>\n",
       "      <th>VAR1</th>\n",
       "      <th>VAR2</th>\n",
       "      <th>VAR3</th>\n",
       "      <th>VAR4</th>\n",
       "      <th>VAR5</th>\n",
       "      <th>VAR6</th>\n",
       "      <th>VAR7</th>\n",
       "      <th>Attrition_rate</th>\n",
       "      <th>Agenan</th>\n",
       "      <th>Time_of_servicenan</th>\n",
       "      <th>Pay_Scalenan</th>\n",
       "      <th>Work_Life_balancenan</th>\n",
       "      <th>VAR2nan</th>\n",
       "      <th>VAR4nan</th>\n",
       "    </tr>\n",
       "  </thead>\n",
       "  <tbody>\n",
       "    <tr>\n",
       "      <th>0</th>\n",
       "      <td>F</td>\n",
       "      <td>42.0</td>\n",
       "      <td>4</td>\n",
       "      <td>Married</td>\n",
       "      <td>Franklin</td>\n",
       "      <td>IT</td>\n",
       "      <td>Conceptual</td>\n",
       "      <td>4.0</td>\n",
       "      <td>4</td>\n",
       "      <td>33</td>\n",
       "      <td>1</td>\n",
       "      <td>1</td>\n",
       "      <td>7.0</td>\n",
       "      <td>type2</td>\n",
       "      <td>3.0</td>\n",
       "      <td>4</td>\n",
       "      <td>0.7516</td>\n",
       "      <td>1.8688</td>\n",
       "      <td>2.0</td>\n",
       "      <td>4</td>\n",
       "      <td>5</td>\n",
       "      <td>3</td>\n",
       "      <td>0.1841</td>\n",
       "      <td>0</td>\n",
       "      <td>0</td>\n",
       "      <td>0</td>\n",
       "      <td>0</td>\n",
       "      <td>0</td>\n",
       "      <td>0</td>\n",
       "    </tr>\n",
       "    <tr>\n",
       "      <th>1</th>\n",
       "      <td>M</td>\n",
       "      <td>24.0</td>\n",
       "      <td>3</td>\n",
       "      <td>Single</td>\n",
       "      <td>Springfield</td>\n",
       "      <td>Logistics</td>\n",
       "      <td>Analytical</td>\n",
       "      <td>5.0</td>\n",
       "      <td>4</td>\n",
       "      <td>36</td>\n",
       "      <td>0</td>\n",
       "      <td>3</td>\n",
       "      <td>6.0</td>\n",
       "      <td>type2</td>\n",
       "      <td>4.0</td>\n",
       "      <td>3</td>\n",
       "      <td>-0.9612</td>\n",
       "      <td>-0.4537</td>\n",
       "      <td>2.0</td>\n",
       "      <td>3</td>\n",
       "      <td>5</td>\n",
       "      <td>3</td>\n",
       "      <td>0.0670</td>\n",
       "      <td>0</td>\n",
       "      <td>0</td>\n",
       "      <td>0</td>\n",
       "      <td>0</td>\n",
       "      <td>0</td>\n",
       "      <td>0</td>\n",
       "    </tr>\n",
       "    <tr>\n",
       "      <th>2</th>\n",
       "      <td>F</td>\n",
       "      <td>58.0</td>\n",
       "      <td>3</td>\n",
       "      <td>Married</td>\n",
       "      <td>Clinton</td>\n",
       "      <td>Quality</td>\n",
       "      <td>Conceptual</td>\n",
       "      <td>27.0</td>\n",
       "      <td>3</td>\n",
       "      <td>51</td>\n",
       "      <td>0</td>\n",
       "      <td>2</td>\n",
       "      <td>8.0</td>\n",
       "      <td>type2</td>\n",
       "      <td>1.0</td>\n",
       "      <td>4</td>\n",
       "      <td>-0.9612</td>\n",
       "      <td>-0.4537</td>\n",
       "      <td>3.0</td>\n",
       "      <td>3</td>\n",
       "      <td>8</td>\n",
       "      <td>3</td>\n",
       "      <td>0.0851</td>\n",
       "      <td>0</td>\n",
       "      <td>0</td>\n",
       "      <td>0</td>\n",
       "      <td>0</td>\n",
       "      <td>0</td>\n",
       "      <td>0</td>\n",
       "    </tr>\n",
       "    <tr>\n",
       "      <th>3</th>\n",
       "      <td>F</td>\n",
       "      <td>26.0</td>\n",
       "      <td>3</td>\n",
       "      <td>Single</td>\n",
       "      <td>Lebanon</td>\n",
       "      <td>Human Resource Management</td>\n",
       "      <td>Behavioral</td>\n",
       "      <td>4.0</td>\n",
       "      <td>3</td>\n",
       "      <td>56</td>\n",
       "      <td>1</td>\n",
       "      <td>3</td>\n",
       "      <td>8.0</td>\n",
       "      <td>type2</td>\n",
       "      <td>1.0</td>\n",
       "      <td>3</td>\n",
       "      <td>-1.8176</td>\n",
       "      <td>-0.4537</td>\n",
       "      <td>2.0</td>\n",
       "      <td>3</td>\n",
       "      <td>7</td>\n",
       "      <td>3</td>\n",
       "      <td>0.0668</td>\n",
       "      <td>0</td>\n",
       "      <td>0</td>\n",
       "      <td>0</td>\n",
       "      <td>0</td>\n",
       "      <td>0</td>\n",
       "      <td>1</td>\n",
       "    </tr>\n",
       "    <tr>\n",
       "      <th>4</th>\n",
       "      <td>F</td>\n",
       "      <td>31.0</td>\n",
       "      <td>1</td>\n",
       "      <td>Married</td>\n",
       "      <td>Springfield</td>\n",
       "      <td>Logistics</td>\n",
       "      <td>Conceptual</td>\n",
       "      <td>5.0</td>\n",
       "      <td>4</td>\n",
       "      <td>62</td>\n",
       "      <td>1</td>\n",
       "      <td>3</td>\n",
       "      <td>2.0</td>\n",
       "      <td>type3</td>\n",
       "      <td>3.0</td>\n",
       "      <td>1</td>\n",
       "      <td>0.7516</td>\n",
       "      <td>-0.4537</td>\n",
       "      <td>2.0</td>\n",
       "      <td>2</td>\n",
       "      <td>8</td>\n",
       "      <td>2</td>\n",
       "      <td>0.1827</td>\n",
       "      <td>0</td>\n",
       "      <td>0</td>\n",
       "      <td>0</td>\n",
       "      <td>0</td>\n",
       "      <td>0</td>\n",
       "      <td>0</td>\n",
       "    </tr>\n",
       "  </tbody>\n",
       "</table>\n",
       "</div>"
      ],
      "text/plain": [
       "  Gender   Age  Education_Level Relationship_Status     Hometown  \\\n",
       "0      F  42.0                4             Married     Franklin   \n",
       "1      M  24.0                3              Single  Springfield   \n",
       "2      F  58.0                3             Married      Clinton   \n",
       "3      F  26.0                3              Single      Lebanon   \n",
       "4      F  31.0                1             Married  Springfield   \n",
       "\n",
       "                        Unit Decision_skill_possess  Time_of_service  \\\n",
       "0                         IT             Conceptual              4.0   \n",
       "1                  Logistics             Analytical              5.0   \n",
       "2                    Quality             Conceptual             27.0   \n",
       "3  Human Resource Management             Behavioral              4.0   \n",
       "4                  Logistics             Conceptual              5.0   \n",
       "\n",
       "   Time_since_promotion  growth_rate  Travel_Rate  Post_Level  Pay_Scale  \\\n",
       "0                     4           33            1           1        7.0   \n",
       "1                     4           36            0           3        6.0   \n",
       "2                     3           51            0           2        8.0   \n",
       "3                     3           56            1           3        8.0   \n",
       "4                     4           62            1           3        2.0   \n",
       "\n",
       "  Compensation_and_Benefits  Work_Life_balance  VAR1    VAR2    VAR3  VAR4  \\\n",
       "0                     type2                3.0     4  0.7516  1.8688   2.0   \n",
       "1                     type2                4.0     3 -0.9612 -0.4537   2.0   \n",
       "2                     type2                1.0     4 -0.9612 -0.4537   3.0   \n",
       "3                     type2                1.0     3 -1.8176 -0.4537   2.0   \n",
       "4                     type3                3.0     1  0.7516 -0.4537   2.0   \n",
       "\n",
       "   VAR5  VAR6  VAR7  Attrition_rate  Agenan  Time_of_servicenan  Pay_Scalenan  \\\n",
       "0     4     5     3          0.1841       0                   0             0   \n",
       "1     3     5     3          0.0670       0                   0             0   \n",
       "2     3     8     3          0.0851       0                   0             0   \n",
       "3     3     7     3          0.0668       0                   0             0   \n",
       "4     2     8     2          0.1827       0                   0             0   \n",
       "\n",
       "   Work_Life_balancenan  VAR2nan  VAR4nan  \n",
       "0                     0        0        0  \n",
       "1                     0        0        0  \n",
       "2                     0        0        0  \n",
       "3                     0        0        1  \n",
       "4                     0        0        0  "
      ]
     },
     "execution_count": 27,
     "metadata": {},
     "output_type": "execute_result"
    }
   ],
   "source": [
    "data.head()"
   ]
  },
  {
   "cell_type": "code",
   "execution_count": 28,
   "metadata": {},
   "outputs": [],
   "source": [
    "# Encoding categorical features\n",
    "categorical_features = [feature for feature in data.columns if data[feature].dtypes=='O']\n",
    "for feature in categorical_features:\n",
    "    labels_ordered = data.groupby([feature])['Attrition_rate'].mean().sort_values().index\n",
    "    labels_ordered = {k:i for i,k in enumerate(labels_ordered,0)}\n",
    "    data[feature]=data[feature].map(labels_ordered)"
   ]
  },
  {
   "cell_type": "code",
   "execution_count": 29,
   "metadata": {},
   "outputs": [
    {
     "data": {
      "text/html": [
       "<div>\n",
       "<style scoped>\n",
       "    .dataframe tbody tr th:only-of-type {\n",
       "        vertical-align: middle;\n",
       "    }\n",
       "\n",
       "    .dataframe tbody tr th {\n",
       "        vertical-align: top;\n",
       "    }\n",
       "\n",
       "    .dataframe thead th {\n",
       "        text-align: right;\n",
       "    }\n",
       "</style>\n",
       "<table border=\"1\" class=\"dataframe\">\n",
       "  <thead>\n",
       "    <tr style=\"text-align: right;\">\n",
       "      <th></th>\n",
       "      <th>Gender</th>\n",
       "      <th>Age</th>\n",
       "      <th>Education_Level</th>\n",
       "      <th>Relationship_Status</th>\n",
       "      <th>Hometown</th>\n",
       "      <th>Unit</th>\n",
       "      <th>Decision_skill_possess</th>\n",
       "      <th>Time_of_service</th>\n",
       "      <th>Time_since_promotion</th>\n",
       "      <th>growth_rate</th>\n",
       "      <th>Travel_Rate</th>\n",
       "      <th>Post_Level</th>\n",
       "      <th>Pay_Scale</th>\n",
       "      <th>Compensation_and_Benefits</th>\n",
       "      <th>Work_Life_balance</th>\n",
       "      <th>VAR1</th>\n",
       "      <th>VAR2</th>\n",
       "      <th>VAR3</th>\n",
       "      <th>VAR4</th>\n",
       "      <th>VAR5</th>\n",
       "      <th>VAR6</th>\n",
       "      <th>VAR7</th>\n",
       "      <th>Attrition_rate</th>\n",
       "      <th>Agenan</th>\n",
       "      <th>Time_of_servicenan</th>\n",
       "      <th>Pay_Scalenan</th>\n",
       "      <th>Work_Life_balancenan</th>\n",
       "      <th>VAR2nan</th>\n",
       "      <th>VAR4nan</th>\n",
       "    </tr>\n",
       "  </thead>\n",
       "  <tbody>\n",
       "    <tr>\n",
       "      <th>0</th>\n",
       "      <td>0</td>\n",
       "      <td>42.0</td>\n",
       "      <td>4</td>\n",
       "      <td>0</td>\n",
       "      <td>1</td>\n",
       "      <td>0</td>\n",
       "      <td>3</td>\n",
       "      <td>4.0</td>\n",
       "      <td>4</td>\n",
       "      <td>33</td>\n",
       "      <td>1</td>\n",
       "      <td>1</td>\n",
       "      <td>7.0</td>\n",
       "      <td>2</td>\n",
       "      <td>3.0</td>\n",
       "      <td>4</td>\n",
       "      <td>0.7516</td>\n",
       "      <td>1.8688</td>\n",
       "      <td>2.0</td>\n",
       "      <td>4</td>\n",
       "      <td>5</td>\n",
       "      <td>3</td>\n",
       "      <td>0.1841</td>\n",
       "      <td>0</td>\n",
       "      <td>0</td>\n",
       "      <td>0</td>\n",
       "      <td>0</td>\n",
       "      <td>0</td>\n",
       "      <td>0</td>\n",
       "    </tr>\n",
       "    <tr>\n",
       "      <th>1</th>\n",
       "      <td>1</td>\n",
       "      <td>24.0</td>\n",
       "      <td>3</td>\n",
       "      <td>1</td>\n",
       "      <td>4</td>\n",
       "      <td>1</td>\n",
       "      <td>1</td>\n",
       "      <td>5.0</td>\n",
       "      <td>4</td>\n",
       "      <td>36</td>\n",
       "      <td>0</td>\n",
       "      <td>3</td>\n",
       "      <td>6.0</td>\n",
       "      <td>2</td>\n",
       "      <td>4.0</td>\n",
       "      <td>3</td>\n",
       "      <td>-0.9612</td>\n",
       "      <td>-0.4537</td>\n",
       "      <td>2.0</td>\n",
       "      <td>3</td>\n",
       "      <td>5</td>\n",
       "      <td>3</td>\n",
       "      <td>0.0670</td>\n",
       "      <td>0</td>\n",
       "      <td>0</td>\n",
       "      <td>0</td>\n",
       "      <td>0</td>\n",
       "      <td>0</td>\n",
       "      <td>0</td>\n",
       "    </tr>\n",
       "    <tr>\n",
       "      <th>2</th>\n",
       "      <td>0</td>\n",
       "      <td>58.0</td>\n",
       "      <td>3</td>\n",
       "      <td>0</td>\n",
       "      <td>2</td>\n",
       "      <td>3</td>\n",
       "      <td>3</td>\n",
       "      <td>27.0</td>\n",
       "      <td>3</td>\n",
       "      <td>51</td>\n",
       "      <td>0</td>\n",
       "      <td>2</td>\n",
       "      <td>8.0</td>\n",
       "      <td>2</td>\n",
       "      <td>1.0</td>\n",
       "      <td>4</td>\n",
       "      <td>-0.9612</td>\n",
       "      <td>-0.4537</td>\n",
       "      <td>3.0</td>\n",
       "      <td>3</td>\n",
       "      <td>8</td>\n",
       "      <td>3</td>\n",
       "      <td>0.0851</td>\n",
       "      <td>0</td>\n",
       "      <td>0</td>\n",
       "      <td>0</td>\n",
       "      <td>0</td>\n",
       "      <td>0</td>\n",
       "      <td>0</td>\n",
       "    </tr>\n",
       "    <tr>\n",
       "      <th>3</th>\n",
       "      <td>0</td>\n",
       "      <td>26.0</td>\n",
       "      <td>3</td>\n",
       "      <td>1</td>\n",
       "      <td>0</td>\n",
       "      <td>2</td>\n",
       "      <td>0</td>\n",
       "      <td>4.0</td>\n",
       "      <td>3</td>\n",
       "      <td>56</td>\n",
       "      <td>1</td>\n",
       "      <td>3</td>\n",
       "      <td>8.0</td>\n",
       "      <td>2</td>\n",
       "      <td>1.0</td>\n",
       "      <td>3</td>\n",
       "      <td>-1.8176</td>\n",
       "      <td>-0.4537</td>\n",
       "      <td>2.0</td>\n",
       "      <td>3</td>\n",
       "      <td>7</td>\n",
       "      <td>3</td>\n",
       "      <td>0.0668</td>\n",
       "      <td>0</td>\n",
       "      <td>0</td>\n",
       "      <td>0</td>\n",
       "      <td>0</td>\n",
       "      <td>0</td>\n",
       "      <td>1</td>\n",
       "    </tr>\n",
       "    <tr>\n",
       "      <th>4</th>\n",
       "      <td>0</td>\n",
       "      <td>31.0</td>\n",
       "      <td>1</td>\n",
       "      <td>0</td>\n",
       "      <td>4</td>\n",
       "      <td>1</td>\n",
       "      <td>3</td>\n",
       "      <td>5.0</td>\n",
       "      <td>4</td>\n",
       "      <td>62</td>\n",
       "      <td>1</td>\n",
       "      <td>3</td>\n",
       "      <td>2.0</td>\n",
       "      <td>0</td>\n",
       "      <td>3.0</td>\n",
       "      <td>1</td>\n",
       "      <td>0.7516</td>\n",
       "      <td>-0.4537</td>\n",
       "      <td>2.0</td>\n",
       "      <td>2</td>\n",
       "      <td>8</td>\n",
       "      <td>2</td>\n",
       "      <td>0.1827</td>\n",
       "      <td>0</td>\n",
       "      <td>0</td>\n",
       "      <td>0</td>\n",
       "      <td>0</td>\n",
       "      <td>0</td>\n",
       "      <td>0</td>\n",
       "    </tr>\n",
       "  </tbody>\n",
       "</table>\n",
       "</div>"
      ],
      "text/plain": [
       "   Gender   Age  Education_Level  Relationship_Status  Hometown  Unit  \\\n",
       "0       0  42.0                4                    0         1     0   \n",
       "1       1  24.0                3                    1         4     1   \n",
       "2       0  58.0                3                    0         2     3   \n",
       "3       0  26.0                3                    1         0     2   \n",
       "4       0  31.0                1                    0         4     1   \n",
       "\n",
       "   Decision_skill_possess  Time_of_service  Time_since_promotion  growth_rate  \\\n",
       "0                       3              4.0                     4           33   \n",
       "1                       1              5.0                     4           36   \n",
       "2                       3             27.0                     3           51   \n",
       "3                       0              4.0                     3           56   \n",
       "4                       3              5.0                     4           62   \n",
       "\n",
       "   Travel_Rate  Post_Level  Pay_Scale  Compensation_and_Benefits  \\\n",
       "0            1           1        7.0                          2   \n",
       "1            0           3        6.0                          2   \n",
       "2            0           2        8.0                          2   \n",
       "3            1           3        8.0                          2   \n",
       "4            1           3        2.0                          0   \n",
       "\n",
       "   Work_Life_balance  VAR1    VAR2    VAR3  VAR4  VAR5  VAR6  VAR7  \\\n",
       "0                3.0     4  0.7516  1.8688   2.0     4     5     3   \n",
       "1                4.0     3 -0.9612 -0.4537   2.0     3     5     3   \n",
       "2                1.0     4 -0.9612 -0.4537   3.0     3     8     3   \n",
       "3                1.0     3 -1.8176 -0.4537   2.0     3     7     3   \n",
       "4                3.0     1  0.7516 -0.4537   2.0     2     8     2   \n",
       "\n",
       "   Attrition_rate  Agenan  Time_of_servicenan  Pay_Scalenan  \\\n",
       "0          0.1841       0                   0             0   \n",
       "1          0.0670       0                   0             0   \n",
       "2          0.0851       0                   0             0   \n",
       "3          0.0668       0                   0             0   \n",
       "4          0.1827       0                   0             0   \n",
       "\n",
       "   Work_Life_balancenan  VAR2nan  VAR4nan  \n",
       "0                     0        0        0  \n",
       "1                     0        0        0  \n",
       "2                     0        0        0  \n",
       "3                     0        0        1  \n",
       "4                     0        0        0  "
      ]
     },
     "execution_count": 29,
     "metadata": {},
     "output_type": "execute_result"
    }
   ],
   "source": [
    "data.head()"
   ]
  },
  {
   "cell_type": "markdown",
   "metadata": {},
   "source": [
    "# Feature Engineering"
   ]
  },
  {
   "cell_type": "code",
   "execution_count": 30,
   "metadata": {},
   "outputs": [],
   "source": [
    "# Seperating X and y \n",
    "y = data['Attrition_rate']\n",
    "X = data.drop(columns=['Attrition_rate'])"
   ]
  },
  {
   "cell_type": "code",
   "execution_count": 31,
   "metadata": {},
   "outputs": [
    {
     "data": {
      "text/plain": [
       "array([[<matplotlib.axes._subplots.AxesSubplot object at 0x000001C3179BD278>,\n",
       "        <matplotlib.axes._subplots.AxesSubplot object at 0x000001C317C24C50>,\n",
       "        <matplotlib.axes._subplots.AxesSubplot object at 0x000001C317C560B8>,\n",
       "        <matplotlib.axes._subplots.AxesSubplot object at 0x000001C317C49630>,\n",
       "        <matplotlib.axes._subplots.AxesSubplot object at 0x000001C317C4EBA8>],\n",
       "       [<matplotlib.axes._subplots.AxesSubplot object at 0x000001C317CB5160>,\n",
       "        <matplotlib.axes._subplots.AxesSubplot object at 0x000001C3176C26D8>,\n",
       "        <matplotlib.axes._subplots.AxesSubplot object at 0x000001C3176C8C50>,\n",
       "        <matplotlib.axes._subplots.AxesSubplot object at 0x000001C3179AA208>,\n",
       "        <matplotlib.axes._subplots.AxesSubplot object at 0x000001C3179BA780>],\n",
       "       [<matplotlib.axes._subplots.AxesSubplot object at 0x000001C3179FEC88>,\n",
       "        <matplotlib.axes._subplots.AxesSubplot object at 0x000001C317D6D2B0>,\n",
       "        <matplotlib.axes._subplots.AxesSubplot object at 0x000001C317D86828>,\n",
       "        <matplotlib.axes._subplots.AxesSubplot object at 0x000001C317D9CDA0>,\n",
       "        <matplotlib.axes._subplots.AxesSubplot object at 0x000001C317C1D358>],\n",
       "       [<matplotlib.axes._subplots.AxesSubplot object at 0x000001C317BF88D0>,\n",
       "        <matplotlib.axes._subplots.AxesSubplot object at 0x000001C317B63E48>,\n",
       "        <matplotlib.axes._subplots.AxesSubplot object at 0x000001C317B7E400>,\n",
       "        <matplotlib.axes._subplots.AxesSubplot object at 0x000001C317BC3978>,\n",
       "        <matplotlib.axes._subplots.AxesSubplot object at 0x000001C317BCBEF0>],\n",
       "       [<matplotlib.axes._subplots.AxesSubplot object at 0x000001C317DF64A8>,\n",
       "        <matplotlib.axes._subplots.AxesSubplot object at 0x000001C317E0CA20>,\n",
       "        <matplotlib.axes._subplots.AxesSubplot object at 0x000001C317E26F98>,\n",
       "        <matplotlib.axes._subplots.AxesSubplot object at 0x000001C317E42550>,\n",
       "        <matplotlib.axes._subplots.AxesSubplot object at 0x000001C317E5AAC8>],\n",
       "       [<matplotlib.axes._subplots.AxesSubplot object at 0x000001C31A878080>,\n",
       "        <matplotlib.axes._subplots.AxesSubplot object at 0x000001C31A8905F8>,\n",
       "        <matplotlib.axes._subplots.AxesSubplot object at 0x000001C31A8A7B70>,\n",
       "        <matplotlib.axes._subplots.AxesSubplot object at 0x000001C31A8C6128>,\n",
       "        <matplotlib.axes._subplots.AxesSubplot object at 0x000001C31A8DB6A0>]],\n",
       "      dtype=object)"
      ]
     },
     "execution_count": 31,
     "metadata": {},
     "output_type": "execute_result"
    },
    {
     "data": {
      "image/png": "[encoded data removed]",
      "text/plain": [
       "<Figure size 432x288 with 30 Axes>"
      ]
     },
     "metadata": {
      "needs_background": "light"
     },
     "output_type": "display_data"
    }
   ],
   "source": [
    "from sklearn.preprocessing import PowerTransformer\n",
    "pt = PowerTransformer(method='yeo-johnson')\n",
    "X_transformed = pd.DataFrame(pt.fit_transform(X))\n",
    "X_transformed.columns = X.columns\n",
    "X_transformed.hist()"
   ]
  },
  {
   "cell_type": "code",
   "execution_count": 32,
   "metadata": {},
   "outputs": [
    {
     "data": {
      "text/html": [
       "<div>\n",
       "<style scoped>\n",
       "    .dataframe tbody tr th:only-of-type {\n",
       "        vertical-align: middle;\n",
       "    }\n",
       "\n",
       "    .dataframe tbody tr th {\n",
       "        vertical-align: top;\n",
       "    }\n",
       "\n",
       "    .dataframe thead th {\n",
       "        text-align: right;\n",
       "    }\n",
       "</style>\n",
       "<table border=\"1\" class=\"dataframe\">\n",
       "  <thead>\n",
       "    <tr style=\"text-align: right;\">\n",
       "      <th></th>\n",
       "      <th>Gender</th>\n",
       "      <th>Age</th>\n",
       "      <th>Education_Level</th>\n",
       "      <th>Relationship_Status</th>\n",
       "      <th>Hometown</th>\n",
       "      <th>Unit</th>\n",
       "      <th>Decision_skill_possess</th>\n",
       "      <th>Time_of_service</th>\n",
       "      <th>Time_since_promotion</th>\n",
       "      <th>growth_rate</th>\n",
       "      <th>Travel_Rate</th>\n",
       "      <th>Post_Level</th>\n",
       "      <th>Pay_Scale</th>\n",
       "      <th>Compensation_and_Benefits</th>\n",
       "      <th>Work_Life_balance</th>\n",
       "      <th>VAR1</th>\n",
       "      <th>VAR2</th>\n",
       "      <th>VAR3</th>\n",
       "      <th>VAR4</th>\n",
       "      <th>VAR5</th>\n",
       "      <th>VAR6</th>\n",
       "      <th>VAR7</th>\n",
       "      <th>Agenan</th>\n",
       "      <th>Time_of_servicenan</th>\n",
       "      <th>Pay_Scalenan</th>\n",
       "      <th>Work_Life_balancenan</th>\n",
       "      <th>VAR2nan</th>\n",
       "      <th>VAR4nan</th>\n",
       "    </tr>\n",
       "  </thead>\n",
       "  <tbody>\n",
       "    <tr>\n",
       "      <th>0</th>\n",
       "      <td>-0.837560</td>\n",
       "      <td>0.308688</td>\n",
       "      <td>0.756389</td>\n",
       "      <td>-0.740724</td>\n",
       "      <td>-0.345328</td>\n",
       "      <td>-1.405875</td>\n",
       "      <td>1.275129</td>\n",
       "      <td>-0.950484</td>\n",
       "      <td>1.380164</td>\n",
       "      <td>-0.877307</td>\n",
       "      <td>0.353132</td>\n",
       "      <td>-1.664949</td>\n",
       "      <td>0.462420</td>\n",
       "      <td>0.647641</td>\n",
       "      <td>0.615502</td>\n",
       "      <td>1.089162</td>\n",
       "      <td>0.800426</td>\n",
       "      <td>1.971756</td>\n",
       "      <td>0.170770</td>\n",
       "      <td>1.229876</td>\n",
       "      <td>-1.653942</td>\n",
       "      <td>-0.273477</td>\n",
       "      <td>-0.250076</td>\n",
       "      <td>-0.144926</td>\n",
       "      <td>-0.03588</td>\n",
       "      <td>-0.039672</td>\n",
       "      <td>-0.299722</td>\n",
       "      <td>-0.321566</td>\n",
       "    </tr>\n",
       "    <tr>\n",
       "      <th>1</th>\n",
       "      <td>1.193944</td>\n",
       "      <td>-1.245434</td>\n",
       "      <td>-0.245378</td>\n",
       "      <td>1.350030</td>\n",
       "      <td>1.227741</td>\n",
       "      <td>-0.883214</td>\n",
       "      <td>-0.374574</td>\n",
       "      <td>-0.760048</td>\n",
       "      <td>1.380164</td>\n",
       "      <td>-0.675586</td>\n",
       "      <td>-1.320222</td>\n",
       "      <td>0.236582</td>\n",
       "      <td>-0.039187</td>\n",
       "      <td>0.647641</td>\n",
       "      <td>1.346303</td>\n",
       "      <td>-0.144604</td>\n",
       "      <td>-1.013132</td>\n",
       "      <td>-0.464671</td>\n",
       "      <td>0.170770</td>\n",
       "      <td>0.195086</td>\n",
       "      <td>-1.653942</td>\n",
       "      <td>-0.273477</td>\n",
       "      <td>-0.250076</td>\n",
       "      <td>-0.144926</td>\n",
       "      <td>-0.03588</td>\n",
       "      <td>-0.039672</td>\n",
       "      <td>-0.299722</td>\n",
       "      <td>-0.321566</td>\n",
       "    </tr>\n",
       "    <tr>\n",
       "      <th>2</th>\n",
       "      <td>-0.837560</td>\n",
       "      <td>1.315889</td>\n",
       "      <td>-0.245378</td>\n",
       "      <td>-0.740724</td>\n",
       "      <td>0.299860</td>\n",
       "      <td>-0.208299</td>\n",
       "      <td>1.275129</td>\n",
       "      <td>1.245820</td>\n",
       "      <td>0.573276</td>\n",
       "      <td>0.283600</td>\n",
       "      <td>-1.320222</td>\n",
       "      <td>-0.645013</td>\n",
       "      <td>0.978686</td>\n",
       "      <td>0.647641</td>\n",
       "      <td>-1.313735</td>\n",
       "      <td>1.089162</td>\n",
       "      <td>-1.013132</td>\n",
       "      <td>-0.464671</td>\n",
       "      <td>2.282578</td>\n",
       "      <td>0.195086</td>\n",
       "      <td>0.758969</td>\n",
       "      <td>-0.273477</td>\n",
       "      <td>-0.250076</td>\n",
       "      <td>-0.144926</td>\n",
       "      <td>-0.03588</td>\n",
       "      <td>-0.039672</td>\n",
       "      <td>-0.299722</td>\n",
       "      <td>-0.321566</td>\n",
       "    </tr>\n",
       "    <tr>\n",
       "      <th>3</th>\n",
       "      <td>-0.837560</td>\n",
       "      <td>-1.037332</td>\n",
       "      <td>-0.245378</td>\n",
       "      <td>1.350030</td>\n",
       "      <td>-1.287828</td>\n",
       "      <td>-0.509483</td>\n",
       "      <td>-1.412933</td>\n",
       "      <td>-0.950484</td>\n",
       "      <td>0.573276</td>\n",
       "      <td>0.588518</td>\n",
       "      <td>0.353132</td>\n",
       "      <td>0.236582</td>\n",
       "      <td>0.978686</td>\n",
       "      <td>0.647641</td>\n",
       "      <td>-1.313735</td>\n",
       "      <td>-0.144604</td>\n",
       "      <td>-1.703525</td>\n",
       "      <td>-0.464671</td>\n",
       "      <td>0.170770</td>\n",
       "      <td>0.195086</td>\n",
       "      <td>-0.183823</td>\n",
       "      <td>-0.273477</td>\n",
       "      <td>-0.250076</td>\n",
       "      <td>-0.144926</td>\n",
       "      <td>-0.03588</td>\n",
       "      <td>-0.039672</td>\n",
       "      <td>-0.299722</td>\n",
       "      <td>3.109780</td>\n",
       "    </tr>\n",
       "    <tr>\n",
       "      <th>4</th>\n",
       "      <td>-0.837560</td>\n",
       "      <td>-0.563711</td>\n",
       "      <td>-1.884675</td>\n",
       "      <td>-0.740724</td>\n",
       "      <td>1.227741</td>\n",
       "      <td>-0.883214</td>\n",
       "      <td>1.275129</td>\n",
       "      <td>-0.760048</td>\n",
       "      <td>1.380164</td>\n",
       "      <td>0.946495</td>\n",
       "      <td>0.353132</td>\n",
       "      <td>0.236582</td>\n",
       "      <td>-1.858257</td>\n",
       "      <td>-1.298182</td>\n",
       "      <td>0.615502</td>\n",
       "      <td>-2.370799</td>\n",
       "      <td>0.800426</td>\n",
       "      <td>-0.464671</td>\n",
       "      <td>0.170770</td>\n",
       "      <td>-0.881706</td>\n",
       "      <td>0.758969</td>\n",
       "      <td>-1.361706</td>\n",
       "      <td>-0.250076</td>\n",
       "      <td>-0.144926</td>\n",
       "      <td>-0.03588</td>\n",
       "      <td>-0.039672</td>\n",
       "      <td>-0.299722</td>\n",
       "      <td>-0.321566</td>\n",
       "    </tr>\n",
       "  </tbody>\n",
       "</table>\n",
       "</div>"
      ],
      "text/plain": [
       "     Gender       Age  Education_Level  Relationship_Status  Hometown  \\\n",
       "0 -0.837560  0.308688         0.756389            -0.740724 -0.345328   \n",
       "1  1.193944 -1.245434        -0.245378             1.350030  1.227741   \n",
       "2 -0.837560  1.315889        -0.245378            -0.740724  0.299860   \n",
       "3 -0.837560 -1.037332        -0.245378             1.350030 -1.287828   \n",
       "4 -0.837560 -0.563711        -1.884675            -0.740724  1.227741   \n",
       "\n",
       "       Unit  Decision_skill_possess  Time_of_service  Time_since_promotion  \\\n",
       "0 -1.405875                1.275129        -0.950484              1.380164   \n",
       "1 -0.883214               -0.374574        -0.760048              1.380164   \n",
       "2 -0.208299                1.275129         1.245820              0.573276   \n",
       "3 -0.509483               -1.412933        -0.950484              0.573276   \n",
       "4 -0.883214                1.275129        -0.760048              1.380164   \n",
       "\n",
       "   growth_rate  Travel_Rate  Post_Level  Pay_Scale  Compensation_and_Benefits  \\\n",
       "0    -0.877307     0.353132   -1.664949   0.462420                   0.647641   \n",
       "1    -0.675586    -1.320222    0.236582  -0.039187                   0.647641   \n",
       "2     0.283600    -1.320222   -0.645013   0.978686                   0.647641   \n",
       "3     0.588518     0.353132    0.236582   0.978686                   0.647641   \n",
       "4     0.946495     0.353132    0.236582  -1.858257                  -1.298182   \n",
       "\n",
       "   Work_Life_balance      VAR1      VAR2      VAR3      VAR4      VAR5  \\\n",
       "0           0.615502  1.089162  0.800426  1.971756  0.170770  1.229876   \n",
       "1           1.346303 -0.144604 -1.013132 -0.464671  0.170770  0.195086   \n",
       "2          -1.313735  1.089162 -1.013132 -0.464671  2.282578  0.195086   \n",
       "3          -1.313735 -0.144604 -1.703525 -0.464671  0.170770  0.195086   \n",
       "4           0.615502 -2.370799  0.800426 -0.464671  0.170770 -0.881706   \n",
       "\n",
       "       VAR6      VAR7    Agenan  Time_of_servicenan  Pay_Scalenan  \\\n",
       "0 -1.653942 -0.273477 -0.250076           -0.144926      -0.03588   \n",
       "1 -1.653942 -0.273477 -0.250076           -0.144926      -0.03588   \n",
       "2  0.758969 -0.273477 -0.250076           -0.144926      -0.03588   \n",
       "3 -0.183823 -0.273477 -0.250076           -0.144926      -0.03588   \n",
       "4  0.758969 -1.361706 -0.250076           -0.144926      -0.03588   \n",
       "\n",
       "   Work_Life_balancenan   VAR2nan   VAR4nan  \n",
       "0             -0.039672 -0.299722 -0.321566  \n",
       "1             -0.039672 -0.299722 -0.321566  \n",
       "2             -0.039672 -0.299722 -0.321566  \n",
       "3             -0.039672 -0.299722  3.109780  \n",
       "4             -0.039672 -0.299722 -0.321566  "
      ]
     },
     "execution_count": 32,
     "metadata": {},
     "output_type": "execute_result"
    }
   ],
   "source": [
    "X_transformed.head()"
   ]
  },
  {
   "cell_type": "code",
   "execution_count": 101,
   "metadata": {},
   "outputs": [
    {
     "data": {
      "text/plain": [
       "SelectFromModel(estimator=Lasso(alpha=0.006, copy_X=True, fit_intercept=True,\n",
       "                                max_iter=1000, normalize=False, positive=False,\n",
       "                                precompute=False, random_state=0,\n",
       "                                selection='cyclic', tol=0.0001,\n",
       "                                warm_start=False),\n",
       "                max_features=None, norm_order=1, prefit=False, threshold=None)"
      ]
     },
     "execution_count": 101,
     "metadata": {},
     "output_type": "execute_result"
    }
   ],
   "source": [
    "#Feature Selection\n",
    "feature_set_model = SelectFromModel(Lasso(alpha=0.006,random_state=0))\n",
    "feature_set_model.fit(X_transformed,y)"
   ]
  },
  {
   "cell_type": "code",
   "execution_count": 102,
   "metadata": {},
   "outputs": [
    {
     "data": {
      "text/plain": [
       "array([False, False, False, False, False,  True, False, False, False,\n",
       "       False, False, False, False, False, False, False, False, False,\n",
       "       False, False, False, False, False, False, False, False, False,\n",
       "       False])"
      ]
     },
     "execution_count": 102,
     "metadata": {},
     "output_type": "execute_result"
    }
   ],
   "source": [
    "feature_set_model.get_support()"
   ]
  },
  {
   "cell_type": "code",
   "execution_count": 103,
   "metadata": {},
   "outputs": [
    {
     "name": "stdout",
     "output_type": "stream",
     "text": [
      "total features: 28\n",
      "selected features: 1\n",
      "features with coefficients shrank to zero: 27\n"
     ]
    }
   ],
   "source": [
    "selected_feat = X_transformed.columns[(feature_set_model.get_support())]\n",
    "print('total features: {}'.format((X_transformed.shape[1])))\n",
    "print('selected features: {}'.format(len(selected_feat)))\n",
    "print('features with coefficients shrank to zero: {}'.format(\n",
    "    np.sum(feature_set_model.estimator_.coef_ == 0)))"
   ]
  },
  {
   "cell_type": "code",
   "execution_count": 104,
   "metadata": {},
   "outputs": [
    {
     "data": {
      "text/plain": [
       "Index(['Unit'], dtype='object')"
      ]
     },
     "execution_count": 104,
     "metadata": {},
     "output_type": "execute_result"
    }
   ],
   "source": [
    "selected_feat"
   ]
  },
  {
   "cell_type": "code",
   "execution_count": 105,
   "metadata": {},
   "outputs": [
    {
     "data": {
      "text/html": [
       "<div>\n",
       "<style scoped>\n",
       "    .dataframe tbody tr th:only-of-type {\n",
       "        vertical-align: middle;\n",
       "    }\n",
       "\n",
       "    .dataframe tbody tr th {\n",
       "        vertical-align: top;\n",
       "    }\n",
       "\n",
       "    .dataframe thead th {\n",
       "        text-align: right;\n",
       "    }\n",
       "</style>\n",
       "<table border=\"1\" class=\"dataframe\">\n",
       "  <thead>\n",
       "    <tr style=\"text-align: right;\">\n",
       "      <th></th>\n",
       "      <th>Unit</th>\n",
       "    </tr>\n",
       "  </thead>\n",
       "  <tbody>\n",
       "    <tr>\n",
       "      <th>0</th>\n",
       "      <td>-1.405875</td>\n",
       "    </tr>\n",
       "    <tr>\n",
       "      <th>1</th>\n",
       "      <td>-0.883214</td>\n",
       "    </tr>\n",
       "    <tr>\n",
       "      <th>2</th>\n",
       "      <td>-0.208299</td>\n",
       "    </tr>\n",
       "    <tr>\n",
       "      <th>3</th>\n",
       "      <td>-0.509483</td>\n",
       "    </tr>\n",
       "    <tr>\n",
       "      <th>4</th>\n",
       "      <td>-0.883214</td>\n",
       "    </tr>\n",
       "  </tbody>\n",
       "</table>\n",
       "</div>"
      ],
      "text/plain": [
       "       Unit\n",
       "0 -1.405875\n",
       "1 -0.883214\n",
       "2 -0.208299\n",
       "3 -0.509483\n",
       "4 -0.883214"
      ]
     },
     "execution_count": 105,
     "metadata": {},
     "output_type": "execute_result"
    }
   ],
   "source": [
    "X_train = X_transformed[selected_feat]\n",
    "X_train.head()"
   ]
  },
  {
   "cell_type": "code",
   "execution_count": 106,
   "metadata": {},
   "outputs": [],
   "source": [
    "# Splitting into training and validation \n",
    "x_train,x_valid,Y_train,Y_valid=train_test_split(X_train,y,test_size=0.3,random_state=0)"
   ]
  },
  {
   "cell_type": "markdown",
   "metadata": {},
   "source": [
    "# Models"
   ]
  },
  {
   "cell_type": "code",
   "execution_count": 107,
   "metadata": {},
   "outputs": [
    {
     "data": {
      "text/plain": [
       "LinearRegression(copy_X=True, fit_intercept=True, n_jobs=None, normalize=False)"
      ]
     },
     "execution_count": 107,
     "metadata": {},
     "output_type": "execute_result"
    }
   ],
   "source": [
    "#Model 1\n",
    "model_1 = LinearRegression()\n",
    "model_1.fit(x_train,Y_train)"
   ]
  },
  {
   "cell_type": "code",
   "execution_count": 108,
   "metadata": {},
   "outputs": [],
   "source": [
    "pred = model_1.predict(x_valid)\n",
    "score= 100*max(0,1-np.sqrt(mean_squared_error(Y_valid,pred)))"
   ]
  },
  {
   "cell_type": "code",
   "execution_count": 109,
   "metadata": {},
   "outputs": [
    {
     "data": {
      "text/plain": [
       "81.26141314310905"
      ]
     },
     "execution_count": 109,
     "metadata": {},
     "output_type": "execute_result"
    }
   ],
   "source": [
    "score"
   ]
  },
  {
   "cell_type": "code",
   "execution_count": 110,
   "metadata": {},
   "outputs": [
    {
     "data": {
      "text/plain": [
       "RandomForestRegressor(bootstrap=True, ccp_alpha=0.0, criterion='mse',\n",
       "                      max_depth=None, max_features='auto', max_leaf_nodes=None,\n",
       "                      max_samples=None, min_impurity_decrease=0.0,\n",
       "                      min_impurity_split=None, min_samples_leaf=1,\n",
       "                      min_samples_split=2, min_weight_fraction_leaf=0.0,\n",
       "                      n_estimators=100, n_jobs=None, oob_score=False,\n",
       "                      random_state=None, verbose=0, warm_start=False)"
      ]
     },
     "execution_count": 110,
     "metadata": {},
     "output_type": "execute_result"
    }
   ],
   "source": [
    "# Random Forest\n",
    "model_2=RandomForestRegressor()\n",
    "model_2.fit(x_train,Y_train)"
   ]
  },
  {
   "cell_type": "code",
   "execution_count": 111,
   "metadata": {},
   "outputs": [
    {
     "data": {
      "text/plain": [
       "81.23005362097008"
      ]
     },
     "execution_count": 111,
     "metadata": {},
     "output_type": "execute_result"
    }
   ],
   "source": [
    "pred = model_2.predict(x_valid)\n",
    "score= 100*max(0,1-np.sqrt(mean_squared_error(Y_valid,pred)))\n",
    "score"
   ]
  },
  {
   "cell_type": "code",
   "execution_count": 112,
   "metadata": {},
   "outputs": [
    {
     "data": {
      "text/plain": [
       "SVR(C=20, cache_size=200, coef0=0.0, degree=3, epsilon=0.1, gamma='scale',\n",
       "    kernel='poly', max_iter=-1, shrinking=True, tol=0.001, verbose=False)"
      ]
     },
     "execution_count": 112,
     "metadata": {},
     "output_type": "execute_result"
    }
   ],
   "source": [
    "model_3=SVR(C=20,kernel='poly')\n",
    "model_3.fit(x_train,Y_train)"
   ]
  },
  {
   "cell_type": "code",
   "execution_count": 113,
   "metadata": {},
   "outputs": [
    {
     "data": {
      "text/plain": [
       "80.96643812458962"
      ]
     },
     "execution_count": 113,
     "metadata": {},
     "output_type": "execute_result"
    }
   ],
   "source": [
    "pred = model_3.predict(x_valid)\n",
    "score= 100*max(0,1-np.sqrt(mean_squared_error(Y_valid,pred)))\n",
    "score"
   ]
  },
  {
   "cell_type": "code",
   "execution_count": 114,
   "metadata": {},
   "outputs": [
    {
     "data": {
      "text/plain": [
       "Lasso(alpha=1.0, copy_X=True, fit_intercept=True, max_iter=1000,\n",
       "      normalize=False, positive=False, precompute=False, random_state=None,\n",
       "      selection='cyclic', tol=0.0001, warm_start=False)"
      ]
     },
     "execution_count": 114,
     "metadata": {},
     "output_type": "execute_result"
    }
   ],
   "source": [
    "# Lasso Model\n",
    "model_4=Lasso()\n",
    "model_4.fit(x_train,Y_train)"
   ]
  },
  {
   "cell_type": "code",
   "execution_count": 115,
   "metadata": {},
   "outputs": [
    {
     "data": {
      "text/plain": [
       "81.25826805787662"
      ]
     },
     "execution_count": 115,
     "metadata": {},
     "output_type": "execute_result"
    }
   ],
   "source": [
    "pred = model_4.predict(x_valid)\n",
    "score= 100*max(0,1-np.sqrt(mean_squared_error(Y_valid,pred)))\n",
    "score"
   ]
  },
  {
   "cell_type": "code",
   "execution_count": 116,
   "metadata": {},
   "outputs": [
    {
     "data": {
      "text/plain": [
       "KNeighborsRegressor(algorithm='auto', leaf_size=30, metric='minkowski',\n",
       "                    metric_params=None, n_jobs=None, n_neighbors=5, p=2,\n",
       "                    weights='uniform')"
      ]
     },
     "execution_count": 116,
     "metadata": {},
     "output_type": "execute_result"
    }
   ],
   "source": [
    "#KNN Algorithm\n",
    "model_5= KNeighborsRegressor()  \n",
    "model_5.fit(x_train, Y_train) "
   ]
  },
  {
   "cell_type": "code",
   "execution_count": 117,
   "metadata": {},
   "outputs": [
    {
     "data": {
      "text/plain": [
       "79.75384956844529"
      ]
     },
     "execution_count": 117,
     "metadata": {},
     "output_type": "execute_result"
    }
   ],
   "source": [
    "pred = model_5.predict(x_valid)\n",
    "score= 100*max(0,1-np.sqrt(mean_squared_error(Y_valid,pred)))\n",
    "score"
   ]
  },
  {
   "cell_type": "code",
   "execution_count": 118,
   "metadata": {},
   "outputs": [
    {
     "data": {
      "text/plain": [
       "81.23095363309186"
      ]
     },
     "execution_count": 118,
     "metadata": {},
     "output_type": "execute_result"
    }
   ],
   "source": [
    "# Decision Tree\n",
    "model_6 = DecisionTreeRegressor()\n",
    "model_6.fit(x_train, Y_train)\n",
    "pred = model_6.predict(x_valid)\n",
    "score= 100*max(0,1-np.sqrt(mean_squared_error(Y_valid,pred)))\n",
    "score"
   ]
  },
  {
   "cell_type": "code",
   "execution_count": 102,
   "metadata": {},
   "outputs": [
    {
     "name": "stderr",
     "output_type": "stream",
     "text": [
      "c:\\users\\cooldude\\venv\\lib\\site-packages\\sklearn\\model_selection\\_search.py:281: UserWarning: The total space of parameters 6 is smaller than n_iter=10. Running 6 iterations. For exhaustive searches, use GridSearchCV.\n",
      "  % (grid_size, self.n_iter, grid_size), UserWarning)\n",
      "[Parallel(n_jobs=-1)]: Using backend LokyBackend with 4 concurrent workers.\n"
     ]
    },
    {
     "name": "stdout",
     "output_type": "stream",
     "text": [
      "Fitting 10 folds for each of 6 candidates, totalling 60 fits\n"
     ]
    },
    {
     "name": "stderr",
     "output_type": "stream",
     "text": [
      "[Parallel(n_jobs=-1)]: Done  60 out of  60 | elapsed:    4.2s finished\n"
     ]
    },
    {
     "data": {
      "text/plain": [
       "RandomizedSearchCV(cv=10, error_score=nan,\n",
       "                   estimator=RandomForestRegressor(bootstrap=True,\n",
       "                                                   ccp_alpha=0.0,\n",
       "                                                   criterion='mse',\n",
       "                                                   max_depth=None,\n",
       "                                                   max_features='auto',\n",
       "                                                   max_leaf_nodes=None,\n",
       "                                                   max_samples=None,\n",
       "                                                   min_impurity_decrease=0.0,\n",
       "                                                   min_impurity_split=None,\n",
       "                                                   min_samples_leaf=1,\n",
       "                                                   min_samples_split=2,\n",
       "                                                   min_weight_fraction_leaf=0.0,\n",
       "                                                   n_estimators=100,\n",
       "                                                   n_jobs=None, oob_score=False,\n",
       "                                                   random_state=None, verbose=0,\n",
       "                                                   warm_start=False),\n",
       "                   iid='deprecated', n_iter=10, n_jobs=-1,\n",
       "                   param_distributions={'max_depth': range(0, 3),\n",
       "                                        'n_estimators': range(100, 200, 50)},\n",
       "                   pre_dispatch='2*n_jobs', random_state=None, refit=True,\n",
       "                   return_train_score=False, scoring=None, verbose=1)"
      ]
     },
     "execution_count": 102,
     "metadata": {},
     "output_type": "execute_result"
    }
   ],
   "source": [
    "# Performing Hyperparameter tuning for Random Forest\n",
    "param_grid={'max_depth':range(0,3,1),'n_estimators':range(100,200,50)}\n",
    "grid_search3 = RandomizedSearchCV(RandomForestRegressor(),param_grid,verbose=1,cv=10,n_jobs=-1)\n",
    "grid_search3.fit(x_train,Y_train)"
   ]
  },
  {
   "cell_type": "code",
   "execution_count": 103,
   "metadata": {},
   "outputs": [
    {
     "data": {
      "text/plain": [
       "RandomForestRegressor(bootstrap=True, ccp_alpha=0.0, criterion='mse',\n",
       "                      max_depth=1, max_features='auto', max_leaf_nodes=None,\n",
       "                      max_samples=None, min_impurity_decrease=0.0,\n",
       "                      min_impurity_split=None, min_samples_leaf=1,\n",
       "                      min_samples_split=2, min_weight_fraction_leaf=0.0,\n",
       "                      n_estimators=150, n_jobs=None, oob_score=False,\n",
       "                      random_state=None, verbose=0, warm_start=False)"
      ]
     },
     "execution_count": 103,
     "metadata": {},
     "output_type": "execute_result"
    }
   ],
   "source": [
    "grid_search3.best_estimator_"
   ]
  },
  {
   "cell_type": "code",
   "execution_count": 104,
   "metadata": {},
   "outputs": [
    {
     "data": {
      "text/plain": [
       "81.26009400495535"
      ]
     },
     "execution_count": 104,
     "metadata": {},
     "output_type": "execute_result"
    }
   ],
   "source": [
    "grid_search_pred = grid_search3.predict(x_valid)\n",
    "model_3_grid = 100*max(0,1-np.sqrt(mean_squared_error(grid_search_pred,Y_valid)))\n",
    "model_3_grid"
   ]
  },
  {
   "cell_type": "code",
   "execution_count": 137,
   "metadata": {},
   "outputs": [
    {
     "name": "stdout",
     "output_type": "stream",
     "text": [
      "Fitting 5 folds for each of 10 candidates, totalling 50 fits\n"
     ]
    },
    {
     "name": "stderr",
     "output_type": "stream",
     "text": [
      "[Parallel(n_jobs=-1)]: Using backend LokyBackend with 4 concurrent workers.\n",
      "[Parallel(n_jobs=-1)]: Done  42 tasks      | elapsed:    9.2s\n",
      "[Parallel(n_jobs=-1)]: Done  50 out of  50 | elapsed:   11.1s finished\n"
     ]
    },
    {
     "data": {
      "text/plain": [
       "RandomizedSearchCV(cv=5, error_score=nan,\n",
       "                   estimator=SVR(C=1.0, cache_size=200, coef0=0.0, degree=3,\n",
       "                                 epsilon=0.1, gamma='scale', kernel='rbf',\n",
       "                                 max_iter=-1, shrinking=True, tol=0.001,\n",
       "                                 verbose=False),\n",
       "                   iid='deprecated', n_iter=10, n_jobs=-1,\n",
       "                   param_distributions={'C': range(60, 70, 5),\n",
       "                                        'gamma': [1, 1e-06, 1e-07, 1e-08],\n",
       "                                        'kernel': ['rbf', 'linear']},\n",
       "                   pre_dispatch='2*n_jobs', random_state=None, refit=True,\n",
       "                   return_train_score=False, scoring=None, verbose=1)"
      ]
     },
     "execution_count": 137,
     "metadata": {},
     "output_type": "execute_result"
    }
   ],
   "source": [
    "#Performing Hyper-parameter tuning for SVM\n",
    "param_grid = {'C': range(60,70,5), 'gamma': [1,1e-6,1e-7,1e-8],'kernel': ['rbf', 'linear']}\n",
    "grid_search1 = RandomizedSearchCV(SVR(),param_grid,verbose=1,cv=5,n_jobs=-1,refit=True)\n",
    "grid_search1.fit(x_train,Y_train)"
   ]
  },
  {
   "cell_type": "code",
   "execution_count": 138,
   "metadata": {},
   "outputs": [
    {
     "data": {
      "text/plain": [
       "SVR(C=65, cache_size=200, coef0=0.0, degree=3, epsilon=0.1, gamma=1,\n",
       "    kernel='linear', max_iter=-1, shrinking=True, tol=0.001, verbose=False)"
      ]
     },
     "execution_count": 138,
     "metadata": {},
     "output_type": "execute_result"
    }
   ],
   "source": [
    "grid_search1.best_estimator_"
   ]
  },
  {
   "cell_type": "code",
   "execution_count": 139,
   "metadata": {},
   "outputs": [
    {
     "data": {
      "text/plain": [
       "80.9678290156534"
      ]
     },
     "execution_count": 139,
     "metadata": {},
     "output_type": "execute_result"
    }
   ],
   "source": [
    "grid_search_pred = grid_search1.predict(x_valid)\n",
    "model_2_grid = 100*max(0,1-np.sqrt(mean_squared_error(grid_search_pred,Y_valid)))\n",
    "model_2_grid"
   ]
  },
  {
   "cell_type": "code",
   "execution_count": 215,
   "metadata": {},
   "outputs": [
    {
     "name": "stdout",
     "output_type": "stream",
     "text": [
      "Fitting 15 folds for each of 10 candidates, totalling 150 fits\n"
     ]
    },
    {
     "name": "stderr",
     "output_type": "stream",
     "text": [
      "[Parallel(n_jobs=-1)]: Using backend LokyBackend with 4 concurrent workers.\n",
      "[Parallel(n_jobs=-1)]: Done 150 out of 150 | elapsed:    0.7s finished\n"
     ]
    },
    {
     "data": {
      "text/plain": [
       "RandomizedSearchCV(cv=15, error_score=nan,\n",
       "                   estimator=KNeighborsRegressor(algorithm='auto', leaf_size=30,\n",
       "                                                 metric='minkowski',\n",
       "                                                 metric_params=None,\n",
       "                                                 n_jobs=None, n_neighbors=5,\n",
       "                                                 p=2, weights='uniform'),\n",
       "                   iid='deprecated', n_iter=10, n_jobs=-1,\n",
       "                   param_distributions={'leaf_size': range(31, 38),\n",
       "                                        'n_neighbors': range(15, 21, 2)},\n",
       "                   pre_dispatch='2*n_jobs', random_state=None, refit=True,\n",
       "                   return_train_score=False, scoring=None, verbose=1)"
      ]
     },
     "execution_count": 215,
     "metadata": {},
     "output_type": "execute_result"
    }
   ],
   "source": [
    "#Performing Hyper-parameter tuning for KNN\n",
    "param_grid = {'n_neighbors': range(15,21,2),'leaf_size':range(31,38,1)}\n",
    "grid_search3 = RandomizedSearchCV(KNeighborsRegressor(),param_grid,verbose=1,cv=15,n_jobs=-1,refit=True)\n",
    "grid_search3.fit(x_train,Y_train)"
   ]
  },
  {
   "cell_type": "code",
   "execution_count": 216,
   "metadata": {},
   "outputs": [
    {
     "data": {
      "text/plain": [
       "KNeighborsRegressor(algorithm='auto', leaf_size=37, metric='minkowski',\n",
       "                    metric_params=None, n_jobs=None, n_neighbors=19, p=2,\n",
       "                    weights='uniform')"
      ]
     },
     "execution_count": 216,
     "metadata": {},
     "output_type": "execute_result"
    }
   ],
   "source": [
    "grid_search3.best_estimator_"
   ]
  },
  {
   "cell_type": "code",
   "execution_count": 217,
   "metadata": {},
   "outputs": [
    {
     "data": {
      "text/plain": [
       "80.78803288800546"
      ]
     },
     "execution_count": 217,
     "metadata": {},
     "output_type": "execute_result"
    }
   ],
   "source": [
    "grid_search_pred = grid_search3.predict(x_valid)\n",
    "model_3_grid = 100*max(0,1-np.sqrt(mean_squared_error(grid_search_pred,Y_valid)))\n",
    "model_3_grid"
   ]
  },
  {
   "cell_type": "markdown",
   "metadata": {},
   "source": [
    "#### After running different models, it appears that the highest accuracy on training data is achieved by Linear Regression Model."
   ]
  },
  {
   "cell_type": "markdown",
   "metadata": {},
   "source": [
    "## Analysing the Testing Data"
   ]
  },
  {
   "cell_type": "code",
   "execution_count": 142,
   "metadata": {},
   "outputs": [],
   "source": [
    "test_data=pd.read_csv(\"Customer_attrition/Test.csv\")"
   ]
  },
  {
   "cell_type": "code",
   "execution_count": 143,
   "metadata": {},
   "outputs": [
    {
     "data": {
      "text/html": [
       "<div>\n",
       "<style scoped>\n",
       "    .dataframe tbody tr th:only-of-type {\n",
       "        vertical-align: middle;\n",
       "    }\n",
       "\n",
       "    .dataframe tbody tr th {\n",
       "        vertical-align: top;\n",
       "    }\n",
       "\n",
       "    .dataframe thead th {\n",
       "        text-align: right;\n",
       "    }\n",
       "</style>\n",
       "<table border=\"1\" class=\"dataframe\">\n",
       "  <thead>\n",
       "    <tr style=\"text-align: right;\">\n",
       "      <th></th>\n",
       "      <th>Employee_ID</th>\n",
       "      <th>Gender</th>\n",
       "      <th>Age</th>\n",
       "      <th>Education_Level</th>\n",
       "      <th>Relationship_Status</th>\n",
       "      <th>Hometown</th>\n",
       "      <th>Unit</th>\n",
       "      <th>Decision_skill_possess</th>\n",
       "      <th>Time_of_service</th>\n",
       "      <th>Time_since_promotion</th>\n",
       "      <th>growth_rate</th>\n",
       "      <th>Travel_Rate</th>\n",
       "      <th>Post_Level</th>\n",
       "      <th>Pay_Scale</th>\n",
       "      <th>Compensation_and_Benefits</th>\n",
       "      <th>Work_Life_balance</th>\n",
       "      <th>VAR1</th>\n",
       "      <th>VAR2</th>\n",
       "      <th>VAR3</th>\n",
       "      <th>VAR4</th>\n",
       "      <th>VAR5</th>\n",
       "      <th>VAR6</th>\n",
       "      <th>VAR7</th>\n",
       "    </tr>\n",
       "  </thead>\n",
       "  <tbody>\n",
       "    <tr>\n",
       "      <th>0</th>\n",
       "      <td>EID_22713</td>\n",
       "      <td>F</td>\n",
       "      <td>32.0</td>\n",
       "      <td>5</td>\n",
       "      <td>Single</td>\n",
       "      <td>Springfield</td>\n",
       "      <td>R&amp;D</td>\n",
       "      <td>Conceptual</td>\n",
       "      <td>7.0</td>\n",
       "      <td>4</td>\n",
       "      <td>30</td>\n",
       "      <td>1</td>\n",
       "      <td>5</td>\n",
       "      <td>4.0</td>\n",
       "      <td>type2</td>\n",
       "      <td>1.0</td>\n",
       "      <td>3</td>\n",
       "      <td>-0.9612</td>\n",
       "      <td>-0.4537</td>\n",
       "      <td>2.0</td>\n",
       "      <td>1</td>\n",
       "      <td>8</td>\n",
       "      <td>4</td>\n",
       "    </tr>\n",
       "    <tr>\n",
       "      <th>1</th>\n",
       "      <td>EID_9658</td>\n",
       "      <td>M</td>\n",
       "      <td>65.0</td>\n",
       "      <td>2</td>\n",
       "      <td>Single</td>\n",
       "      <td>Lebanon</td>\n",
       "      <td>IT</td>\n",
       "      <td>Directive</td>\n",
       "      <td>41.0</td>\n",
       "      <td>2</td>\n",
       "      <td>72</td>\n",
       "      <td>1</td>\n",
       "      <td>1</td>\n",
       "      <td>1.0</td>\n",
       "      <td>type2</td>\n",
       "      <td>1.0</td>\n",
       "      <td>4</td>\n",
       "      <td>-0.9612</td>\n",
       "      <td>0.7075</td>\n",
       "      <td>1.0</td>\n",
       "      <td>2</td>\n",
       "      <td>8</td>\n",
       "      <td>2</td>\n",
       "    </tr>\n",
       "    <tr>\n",
       "      <th>2</th>\n",
       "      <td>EID_22203</td>\n",
       "      <td>M</td>\n",
       "      <td>52.0</td>\n",
       "      <td>3</td>\n",
       "      <td>Married</td>\n",
       "      <td>Springfield</td>\n",
       "      <td>Sales</td>\n",
       "      <td>Directive</td>\n",
       "      <td>21.0</td>\n",
       "      <td>3</td>\n",
       "      <td>25</td>\n",
       "      <td>0</td>\n",
       "      <td>1</td>\n",
       "      <td>8.0</td>\n",
       "      <td>type3</td>\n",
       "      <td>1.0</td>\n",
       "      <td>4</td>\n",
       "      <td>-0.1048</td>\n",
       "      <td>0.7075</td>\n",
       "      <td>2.0</td>\n",
       "      <td>1</td>\n",
       "      <td>9</td>\n",
       "      <td>3</td>\n",
       "    </tr>\n",
       "    <tr>\n",
       "      <th>3</th>\n",
       "      <td>EID_7652</td>\n",
       "      <td>M</td>\n",
       "      <td>50.0</td>\n",
       "      <td>5</td>\n",
       "      <td>Single</td>\n",
       "      <td>Washington</td>\n",
       "      <td>Marketing</td>\n",
       "      <td>Analytical</td>\n",
       "      <td>11.0</td>\n",
       "      <td>4</td>\n",
       "      <td>28</td>\n",
       "      <td>1</td>\n",
       "      <td>1</td>\n",
       "      <td>2.0</td>\n",
       "      <td>type0</td>\n",
       "      <td>4.0</td>\n",
       "      <td>3</td>\n",
       "      <td>-0.1048</td>\n",
       "      <td>0.7075</td>\n",
       "      <td>2.0</td>\n",
       "      <td>2</td>\n",
       "      <td>8</td>\n",
       "      <td>3</td>\n",
       "    </tr>\n",
       "    <tr>\n",
       "      <th>4</th>\n",
       "      <td>EID_6516</td>\n",
       "      <td>F</td>\n",
       "      <td>44.0</td>\n",
       "      <td>3</td>\n",
       "      <td>Married</td>\n",
       "      <td>Franklin</td>\n",
       "      <td>R&amp;D</td>\n",
       "      <td>Conceptual</td>\n",
       "      <td>12.0</td>\n",
       "      <td>4</td>\n",
       "      <td>47</td>\n",
       "      <td>1</td>\n",
       "      <td>3</td>\n",
       "      <td>2.0</td>\n",
       "      <td>type2</td>\n",
       "      <td>4.0</td>\n",
       "      <td>4</td>\n",
       "      <td>1.6081</td>\n",
       "      <td>0.7075</td>\n",
       "      <td>2.0</td>\n",
       "      <td>2</td>\n",
       "      <td>7</td>\n",
       "      <td>4</td>\n",
       "    </tr>\n",
       "  </tbody>\n",
       "</table>\n",
       "</div>"
      ],
      "text/plain": [
       "  Employee_ID Gender   Age  Education_Level Relationship_Status     Hometown  \\\n",
       "0   EID_22713      F  32.0                5              Single  Springfield   \n",
       "1    EID_9658      M  65.0                2              Single      Lebanon   \n",
       "2   EID_22203      M  52.0                3             Married  Springfield   \n",
       "3    EID_7652      M  50.0                5              Single   Washington   \n",
       "4    EID_6516      F  44.0                3             Married     Franklin   \n",
       "\n",
       "        Unit Decision_skill_possess  Time_of_service  Time_since_promotion  \\\n",
       "0        R&D             Conceptual              7.0                     4   \n",
       "1         IT              Directive             41.0                     2   \n",
       "2      Sales              Directive             21.0                     3   \n",
       "3  Marketing             Analytical             11.0                     4   \n",
       "4        R&D             Conceptual             12.0                     4   \n",
       "\n",
       "   growth_rate  Travel_Rate  Post_Level  Pay_Scale Compensation_and_Benefits  \\\n",
       "0           30            1           5        4.0                     type2   \n",
       "1           72            1           1        1.0                     type2   \n",
       "2           25            0           1        8.0                     type3   \n",
       "3           28            1           1        2.0                     type0   \n",
       "4           47            1           3        2.0                     type2   \n",
       "\n",
       "   Work_Life_balance  VAR1    VAR2    VAR3  VAR4  VAR5  VAR6  VAR7  \n",
       "0                1.0     3 -0.9612 -0.4537   2.0     1     8     4  \n",
       "1                1.0     4 -0.9612  0.7075   1.0     2     8     2  \n",
       "2                1.0     4 -0.1048  0.7075   2.0     1     9     3  \n",
       "3                4.0     3 -0.1048  0.7075   2.0     2     8     3  \n",
       "4                4.0     4  1.6081  0.7075   2.0     2     7     4  "
      ]
     },
     "execution_count": 143,
     "metadata": {},
     "output_type": "execute_result"
    }
   ],
   "source": [
    "test_data.head()"
   ]
  },
  {
   "cell_type": "code",
   "execution_count": 144,
   "metadata": {},
   "outputs": [
    {
     "name": "stdout",
     "output_type": "stream",
     "text": [
      "There are 3000 rows and 23 columns in testing data.\n"
     ]
    }
   ],
   "source": [
    "# Printing number of records in the testing data\n",
    "print('There are {} rows and {} columns in testing data.'.format(test_data.shape[0],test_data.shape[1]))"
   ]
  },
  {
   "cell_type": "code",
   "execution_count": 145,
   "metadata": {},
   "outputs": [
    {
     "name": "stdout",
     "output_type": "stream",
     "text": [
      "Age 0.0537 %missing values\n",
      "Time_of_service 0.0173 %missing values\n",
      "Pay_Scale 0.001 %missing values\n",
      "Work_Life_balance 0.0017 %missing values\n",
      "VAR2 0.0723 %missing values\n",
      "VAR4 0.0993 %missing values\n"
     ]
    }
   ],
   "source": [
    "X_test=test_data.copy()\n",
    "#Investigating nan values in data\n",
    "features_with_nan = [feature for feature in X_test.columns if X_test[feature].isnull().sum()>=1]\n",
    "for feature in features_with_nan:\n",
    "    print(feature,np.round(X_test[feature].isnull().mean(),4),'%missing values')"
   ]
  },
  {
   "cell_type": "code",
   "execution_count": 146,
   "metadata": {},
   "outputs": [
    {
     "data": {
      "text/plain": [
       "<matplotlib.axes._subplots.AxesSubplot at 0x1c31fd1dc50>"
      ]
     },
     "execution_count": 146,
     "metadata": {},
     "output_type": "execute_result"
    },
    {
     "data": {
      "image/png": "[encoded data removed]",
      "text/plain": [
       "<Figure size 864x720 with 1 Axes>"
      ]
     },
     "metadata": {
      "needs_background": "light"
     },
     "output_type": "display_data"
    }
   ],
   "source": [
    "#Visualizing the null values in test data\n",
    "plt.figure(figsize=(12,10))\n",
    "sns.heatmap(X_test.isnull(),cbar=False,yticklabels=False,cmap=\"viridis\")"
   ]
  },
  {
   "cell_type": "code",
   "execution_count": 147,
   "metadata": {},
   "outputs": [
    {
     "name": "stdout",
     "output_type": "stream",
     "text": [
      "Age 0.0537 %missing values\n",
      "Time_of_service 0.0173 %missing values\n",
      "Pay_Scale 0.001 %missing values\n",
      "Work_Life_balance 0.0017 %missing values\n",
      "VAR2 0.0723 %missing values\n",
      "VAR4 0.0993 %missing values\n"
     ]
    }
   ],
   "source": [
    "#Handlling missing values in numerical data\n",
    "numerical_with_nan = [feature for feature in X_test.columns if X_test[feature].isnull().sum()>=1 and X_test[feature].dtype!='O']\n",
    "for feature in numerical_with_nan:\n",
    "    print(feature,np.round(X_test[feature].isnull().mean(),4),'%missing values')"
   ]
  },
  {
   "cell_type": "code",
   "execution_count": 148,
   "metadata": {},
   "outputs": [
    {
     "data": {
      "text/plain": [
       "Age                  0\n",
       "Time_of_service      0\n",
       "Pay_Scale            0\n",
       "Work_Life_balance    0\n",
       "VAR2                 0\n",
       "VAR4                 0\n",
       "dtype: int64"
      ]
     },
     "execution_count": 148,
     "metadata": {},
     "output_type": "execute_result"
    }
   ],
   "source": [
    "# Filling the missing values\n",
    "for feature in numerical_with_nan:\n",
    "    median_value = X_test[feature].median()\n",
    "    X_test[feature +'nan'] = np.where(X_test[feature].isnull(),1,0)\n",
    "    X_test[feature] = X_test[feature].fillna(median_value)\n",
    "X_test[numerical_with_nan].isnull().sum()"
   ]
  },
  {
   "cell_type": "code",
   "execution_count": 151,
   "metadata": {},
   "outputs": [
    {
     "data": {
      "text/html": [
       "<div>\n",
       "<style scoped>\n",
       "    .dataframe tbody tr th:only-of-type {\n",
       "        vertical-align: middle;\n",
       "    }\n",
       "\n",
       "    .dataframe tbody tr th {\n",
       "        vertical-align: top;\n",
       "    }\n",
       "\n",
       "    .dataframe thead th {\n",
       "        text-align: right;\n",
       "    }\n",
       "</style>\n",
       "<table border=\"1\" class=\"dataframe\">\n",
       "  <thead>\n",
       "    <tr style=\"text-align: right;\">\n",
       "      <th></th>\n",
       "      <th>Employee_ID</th>\n",
       "      <th>Gender</th>\n",
       "      <th>Age</th>\n",
       "      <th>Education_Level</th>\n",
       "      <th>Relationship_Status</th>\n",
       "      <th>Hometown</th>\n",
       "      <th>Unit</th>\n",
       "      <th>Decision_skill_possess</th>\n",
       "      <th>Time_of_service</th>\n",
       "      <th>Time_since_promotion</th>\n",
       "      <th>growth_rate</th>\n",
       "      <th>Travel_Rate</th>\n",
       "      <th>Post_Level</th>\n",
       "      <th>Pay_Scale</th>\n",
       "      <th>Compensation_and_Benefits</th>\n",
       "      <th>Work_Life_balance</th>\n",
       "      <th>VAR1</th>\n",
       "      <th>VAR2</th>\n",
       "      <th>VAR3</th>\n",
       "      <th>VAR4</th>\n",
       "      <th>VAR5</th>\n",
       "      <th>VAR6</th>\n",
       "      <th>VAR7</th>\n",
       "      <th>Agenan</th>\n",
       "      <th>Time_of_servicenan</th>\n",
       "      <th>Pay_Scalenan</th>\n",
       "      <th>Work_Life_balancenan</th>\n",
       "      <th>VAR2nan</th>\n",
       "      <th>VAR4nan</th>\n",
       "    </tr>\n",
       "  </thead>\n",
       "  <tbody>\n",
       "    <tr>\n",
       "      <th>0</th>\n",
       "      <td>EID_22713</td>\n",
       "      <td>F</td>\n",
       "      <td>32.0</td>\n",
       "      <td>5</td>\n",
       "      <td>Single</td>\n",
       "      <td>Springfield</td>\n",
       "      <td>R&amp;D</td>\n",
       "      <td>Conceptual</td>\n",
       "      <td>7.0</td>\n",
       "      <td>4</td>\n",
       "      <td>30</td>\n",
       "      <td>1</td>\n",
       "      <td>5</td>\n",
       "      <td>4.0</td>\n",
       "      <td>type2</td>\n",
       "      <td>1.0</td>\n",
       "      <td>3</td>\n",
       "      <td>-0.9612</td>\n",
       "      <td>-0.4537</td>\n",
       "      <td>2.0</td>\n",
       "      <td>1</td>\n",
       "      <td>8</td>\n",
       "      <td>4</td>\n",
       "      <td>0</td>\n",
       "      <td>0</td>\n",
       "      <td>0</td>\n",
       "      <td>0</td>\n",
       "      <td>0</td>\n",
       "      <td>0</td>\n",
       "    </tr>\n",
       "    <tr>\n",
       "      <th>1</th>\n",
       "      <td>EID_9658</td>\n",
       "      <td>M</td>\n",
       "      <td>65.0</td>\n",
       "      <td>2</td>\n",
       "      <td>Single</td>\n",
       "      <td>Lebanon</td>\n",
       "      <td>IT</td>\n",
       "      <td>Directive</td>\n",
       "      <td>41.0</td>\n",
       "      <td>2</td>\n",
       "      <td>72</td>\n",
       "      <td>1</td>\n",
       "      <td>1</td>\n",
       "      <td>1.0</td>\n",
       "      <td>type2</td>\n",
       "      <td>1.0</td>\n",
       "      <td>4</td>\n",
       "      <td>-0.9612</td>\n",
       "      <td>0.7075</td>\n",
       "      <td>1.0</td>\n",
       "      <td>2</td>\n",
       "      <td>8</td>\n",
       "      <td>2</td>\n",
       "      <td>0</td>\n",
       "      <td>0</td>\n",
       "      <td>0</td>\n",
       "      <td>0</td>\n",
       "      <td>0</td>\n",
       "      <td>0</td>\n",
       "    </tr>\n",
       "    <tr>\n",
       "      <th>2</th>\n",
       "      <td>EID_22203</td>\n",
       "      <td>M</td>\n",
       "      <td>52.0</td>\n",
       "      <td>3</td>\n",
       "      <td>Married</td>\n",
       "      <td>Springfield</td>\n",
       "      <td>Sales</td>\n",
       "      <td>Directive</td>\n",
       "      <td>21.0</td>\n",
       "      <td>3</td>\n",
       "      <td>25</td>\n",
       "      <td>0</td>\n",
       "      <td>1</td>\n",
       "      <td>8.0</td>\n",
       "      <td>type3</td>\n",
       "      <td>1.0</td>\n",
       "      <td>4</td>\n",
       "      <td>-0.1048</td>\n",
       "      <td>0.7075</td>\n",
       "      <td>2.0</td>\n",
       "      <td>1</td>\n",
       "      <td>9</td>\n",
       "      <td>3</td>\n",
       "      <td>0</td>\n",
       "      <td>0</td>\n",
       "      <td>0</td>\n",
       "      <td>0</td>\n",
       "      <td>0</td>\n",
       "      <td>0</td>\n",
       "    </tr>\n",
       "    <tr>\n",
       "      <th>3</th>\n",
       "      <td>EID_7652</td>\n",
       "      <td>M</td>\n",
       "      <td>50.0</td>\n",
       "      <td>5</td>\n",
       "      <td>Single</td>\n",
       "      <td>Washington</td>\n",
       "      <td>Marketing</td>\n",
       "      <td>Analytical</td>\n",
       "      <td>11.0</td>\n",
       "      <td>4</td>\n",
       "      <td>28</td>\n",
       "      <td>1</td>\n",
       "      <td>1</td>\n",
       "      <td>2.0</td>\n",
       "      <td>type0</td>\n",
       "      <td>4.0</td>\n",
       "      <td>3</td>\n",
       "      <td>-0.1048</td>\n",
       "      <td>0.7075</td>\n",
       "      <td>2.0</td>\n",
       "      <td>2</td>\n",
       "      <td>8</td>\n",
       "      <td>3</td>\n",
       "      <td>0</td>\n",
       "      <td>0</td>\n",
       "      <td>0</td>\n",
       "      <td>0</td>\n",
       "      <td>0</td>\n",
       "      <td>0</td>\n",
       "    </tr>\n",
       "    <tr>\n",
       "      <th>4</th>\n",
       "      <td>EID_6516</td>\n",
       "      <td>F</td>\n",
       "      <td>44.0</td>\n",
       "      <td>3</td>\n",
       "      <td>Married</td>\n",
       "      <td>Franklin</td>\n",
       "      <td>R&amp;D</td>\n",
       "      <td>Conceptual</td>\n",
       "      <td>12.0</td>\n",
       "      <td>4</td>\n",
       "      <td>47</td>\n",
       "      <td>1</td>\n",
       "      <td>3</td>\n",
       "      <td>2.0</td>\n",
       "      <td>type2</td>\n",
       "      <td>4.0</td>\n",
       "      <td>4</td>\n",
       "      <td>1.6081</td>\n",
       "      <td>0.7075</td>\n",
       "      <td>2.0</td>\n",
       "      <td>2</td>\n",
       "      <td>7</td>\n",
       "      <td>4</td>\n",
       "      <td>0</td>\n",
       "      <td>0</td>\n",
       "      <td>0</td>\n",
       "      <td>0</td>\n",
       "      <td>0</td>\n",
       "      <td>0</td>\n",
       "    </tr>\n",
       "  </tbody>\n",
       "</table>\n",
       "</div>"
      ],
      "text/plain": [
       "  Employee_ID Gender   Age  Education_Level Relationship_Status     Hometown  \\\n",
       "0   EID_22713      F  32.0                5              Single  Springfield   \n",
       "1    EID_9658      M  65.0                2              Single      Lebanon   \n",
       "2   EID_22203      M  52.0                3             Married  Springfield   \n",
       "3    EID_7652      M  50.0                5              Single   Washington   \n",
       "4    EID_6516      F  44.0                3             Married     Franklin   \n",
       "\n",
       "        Unit Decision_skill_possess  Time_of_service  Time_since_promotion  \\\n",
       "0        R&D             Conceptual              7.0                     4   \n",
       "1         IT              Directive             41.0                     2   \n",
       "2      Sales              Directive             21.0                     3   \n",
       "3  Marketing             Analytical             11.0                     4   \n",
       "4        R&D             Conceptual             12.0                     4   \n",
       "\n",
       "   growth_rate  Travel_Rate  Post_Level  Pay_Scale Compensation_and_Benefits  \\\n",
       "0           30            1           5        4.0                     type2   \n",
       "1           72            1           1        1.0                     type2   \n",
       "2           25            0           1        8.0                     type3   \n",
       "3           28            1           1        2.0                     type0   \n",
       "4           47            1           3        2.0                     type2   \n",
       "\n",
       "   Work_Life_balance  VAR1    VAR2    VAR3  VAR4  VAR5  VAR6  VAR7  Agenan  \\\n",
       "0                1.0     3 -0.9612 -0.4537   2.0     1     8     4       0   \n",
       "1                1.0     4 -0.9612  0.7075   1.0     2     8     2       0   \n",
       "2                1.0     4 -0.1048  0.7075   2.0     1     9     3       0   \n",
       "3                4.0     3 -0.1048  0.7075   2.0     2     8     3       0   \n",
       "4                4.0     4  1.6081  0.7075   2.0     2     7     4       0   \n",
       "\n",
       "   Time_of_servicenan  Pay_Scalenan  Work_Life_balancenan  VAR2nan  VAR4nan  \n",
       "0                   0             0                     0        0        0  \n",
       "1                   0             0                     0        0        0  \n",
       "2                   0             0                     0        0        0  \n",
       "3                   0             0                     0        0        0  \n",
       "4                   0             0                     0        0        0  "
      ]
     },
     "execution_count": 151,
     "metadata": {},
     "output_type": "execute_result"
    }
   ],
   "source": [
    "X_test.head()"
   ]
  },
  {
   "cell_type": "code",
   "execution_count": 153,
   "metadata": {},
   "outputs": [],
   "source": [
    "# Dropping Employee Id column as it donot contribute in prediction.\n",
    "X_test = X_test.drop(columns=['Employee_ID'])"
   ]
  },
  {
   "cell_type": "code",
   "execution_count": 156,
   "metadata": {},
   "outputs": [
    {
     "data": {
      "text/html": [
       "<div>\n",
       "<style scoped>\n",
       "    .dataframe tbody tr th:only-of-type {\n",
       "        vertical-align: middle;\n",
       "    }\n",
       "\n",
       "    .dataframe tbody tr th {\n",
       "        vertical-align: top;\n",
       "    }\n",
       "\n",
       "    .dataframe thead th {\n",
       "        text-align: right;\n",
       "    }\n",
       "</style>\n",
       "<table border=\"1\" class=\"dataframe\">\n",
       "  <thead>\n",
       "    <tr style=\"text-align: right;\">\n",
       "      <th></th>\n",
       "      <th>Gender</th>\n",
       "      <th>Age</th>\n",
       "      <th>Education_Level</th>\n",
       "      <th>Relationship_Status</th>\n",
       "      <th>Hometown</th>\n",
       "      <th>Unit</th>\n",
       "      <th>Decision_skill_possess</th>\n",
       "      <th>Time_of_service</th>\n",
       "      <th>Time_since_promotion</th>\n",
       "      <th>growth_rate</th>\n",
       "      <th>Travel_Rate</th>\n",
       "      <th>Post_Level</th>\n",
       "      <th>Pay_Scale</th>\n",
       "      <th>Compensation_and_Benefits</th>\n",
       "      <th>Work_Life_balance</th>\n",
       "      <th>VAR1</th>\n",
       "      <th>VAR2</th>\n",
       "      <th>VAR3</th>\n",
       "      <th>VAR4</th>\n",
       "      <th>VAR5</th>\n",
       "      <th>VAR6</th>\n",
       "      <th>VAR7</th>\n",
       "      <th>Agenan</th>\n",
       "      <th>Time_of_servicenan</th>\n",
       "      <th>Pay_Scalenan</th>\n",
       "      <th>Work_Life_balancenan</th>\n",
       "      <th>VAR2nan</th>\n",
       "      <th>VAR4nan</th>\n",
       "    </tr>\n",
       "  </thead>\n",
       "  <tbody>\n",
       "    <tr>\n",
       "      <th>0</th>\n",
       "      <td>0</td>\n",
       "      <td>32.0</td>\n",
       "      <td>5</td>\n",
       "      <td>1</td>\n",
       "      <td>3</td>\n",
       "      <td>9</td>\n",
       "      <td>2</td>\n",
       "      <td>7.0</td>\n",
       "      <td>4</td>\n",
       "      <td>30</td>\n",
       "      <td>1</td>\n",
       "      <td>5</td>\n",
       "      <td>4.0</td>\n",
       "      <td>2</td>\n",
       "      <td>1.0</td>\n",
       "      <td>3</td>\n",
       "      <td>-0.9612</td>\n",
       "      <td>-0.4537</td>\n",
       "      <td>2.0</td>\n",
       "      <td>1</td>\n",
       "      <td>8</td>\n",
       "      <td>4</td>\n",
       "      <td>0</td>\n",
       "      <td>0</td>\n",
       "      <td>0</td>\n",
       "      <td>0</td>\n",
       "      <td>0</td>\n",
       "      <td>0</td>\n",
       "    </tr>\n",
       "    <tr>\n",
       "      <th>1</th>\n",
       "      <td>1</td>\n",
       "      <td>65.0</td>\n",
       "      <td>2</td>\n",
       "      <td>1</td>\n",
       "      <td>2</td>\n",
       "      <td>2</td>\n",
       "      <td>3</td>\n",
       "      <td>41.0</td>\n",
       "      <td>2</td>\n",
       "      <td>72</td>\n",
       "      <td>1</td>\n",
       "      <td>1</td>\n",
       "      <td>1.0</td>\n",
       "      <td>2</td>\n",
       "      <td>1.0</td>\n",
       "      <td>4</td>\n",
       "      <td>-0.9612</td>\n",
       "      <td>0.7075</td>\n",
       "      <td>1.0</td>\n",
       "      <td>2</td>\n",
       "      <td>8</td>\n",
       "      <td>2</td>\n",
       "      <td>0</td>\n",
       "      <td>0</td>\n",
       "      <td>0</td>\n",
       "      <td>0</td>\n",
       "      <td>0</td>\n",
       "      <td>0</td>\n",
       "    </tr>\n",
       "    <tr>\n",
       "      <th>2</th>\n",
       "      <td>1</td>\n",
       "      <td>52.0</td>\n",
       "      <td>3</td>\n",
       "      <td>0</td>\n",
       "      <td>3</td>\n",
       "      <td>10</td>\n",
       "      <td>3</td>\n",
       "      <td>21.0</td>\n",
       "      <td>3</td>\n",
       "      <td>25</td>\n",
       "      <td>0</td>\n",
       "      <td>1</td>\n",
       "      <td>8.0</td>\n",
       "      <td>3</td>\n",
       "      <td>1.0</td>\n",
       "      <td>4</td>\n",
       "      <td>-0.1048</td>\n",
       "      <td>0.7075</td>\n",
       "      <td>2.0</td>\n",
       "      <td>1</td>\n",
       "      <td>9</td>\n",
       "      <td>3</td>\n",
       "      <td>0</td>\n",
       "      <td>0</td>\n",
       "      <td>0</td>\n",
       "      <td>0</td>\n",
       "      <td>0</td>\n",
       "      <td>0</td>\n",
       "    </tr>\n",
       "    <tr>\n",
       "      <th>3</th>\n",
       "      <td>1</td>\n",
       "      <td>50.0</td>\n",
       "      <td>5</td>\n",
       "      <td>1</td>\n",
       "      <td>4</td>\n",
       "      <td>4</td>\n",
       "      <td>0</td>\n",
       "      <td>11.0</td>\n",
       "      <td>4</td>\n",
       "      <td>28</td>\n",
       "      <td>1</td>\n",
       "      <td>1</td>\n",
       "      <td>2.0</td>\n",
       "      <td>0</td>\n",
       "      <td>4.0</td>\n",
       "      <td>3</td>\n",
       "      <td>-0.1048</td>\n",
       "      <td>0.7075</td>\n",
       "      <td>2.0</td>\n",
       "      <td>2</td>\n",
       "      <td>8</td>\n",
       "      <td>3</td>\n",
       "      <td>0</td>\n",
       "      <td>0</td>\n",
       "      <td>0</td>\n",
       "      <td>0</td>\n",
       "      <td>0</td>\n",
       "      <td>0</td>\n",
       "    </tr>\n",
       "    <tr>\n",
       "      <th>4</th>\n",
       "      <td>0</td>\n",
       "      <td>44.0</td>\n",
       "      <td>3</td>\n",
       "      <td>0</td>\n",
       "      <td>1</td>\n",
       "      <td>9</td>\n",
       "      <td>2</td>\n",
       "      <td>12.0</td>\n",
       "      <td>4</td>\n",
       "      <td>47</td>\n",
       "      <td>1</td>\n",
       "      <td>3</td>\n",
       "      <td>2.0</td>\n",
       "      <td>2</td>\n",
       "      <td>4.0</td>\n",
       "      <td>4</td>\n",
       "      <td>1.6081</td>\n",
       "      <td>0.7075</td>\n",
       "      <td>2.0</td>\n",
       "      <td>2</td>\n",
       "      <td>7</td>\n",
       "      <td>4</td>\n",
       "      <td>0</td>\n",
       "      <td>0</td>\n",
       "      <td>0</td>\n",
       "      <td>0</td>\n",
       "      <td>0</td>\n",
       "      <td>0</td>\n",
       "    </tr>\n",
       "  </tbody>\n",
       "</table>\n",
       "</div>"
      ],
      "text/plain": [
       "   Gender   Age  Education_Level  Relationship_Status  Hometown  Unit  \\\n",
       "0       0  32.0                5                    1         3     9   \n",
       "1       1  65.0                2                    1         2     2   \n",
       "2       1  52.0                3                    0         3    10   \n",
       "3       1  50.0                5                    1         4     4   \n",
       "4       0  44.0                3                    0         1     9   \n",
       "\n",
       "   Decision_skill_possess  Time_of_service  Time_since_promotion  growth_rate  \\\n",
       "0                       2              7.0                     4           30   \n",
       "1                       3             41.0                     2           72   \n",
       "2                       3             21.0                     3           25   \n",
       "3                       0             11.0                     4           28   \n",
       "4                       2             12.0                     4           47   \n",
       "\n",
       "   Travel_Rate  Post_Level  Pay_Scale  Compensation_and_Benefits  \\\n",
       "0            1           5        4.0                          2   \n",
       "1            1           1        1.0                          2   \n",
       "2            0           1        8.0                          3   \n",
       "3            1           1        2.0                          0   \n",
       "4            1           3        2.0                          2   \n",
       "\n",
       "   Work_Life_balance  VAR1    VAR2    VAR3  VAR4  VAR5  VAR6  VAR7  Agenan  \\\n",
       "0                1.0     3 -0.9612 -0.4537   2.0     1     8     4       0   \n",
       "1                1.0     4 -0.9612  0.7075   1.0     2     8     2       0   \n",
       "2                1.0     4 -0.1048  0.7075   2.0     1     9     3       0   \n",
       "3                4.0     3 -0.1048  0.7075   2.0     2     8     3       0   \n",
       "4                4.0     4  1.6081  0.7075   2.0     2     7     4       0   \n",
       "\n",
       "   Time_of_servicenan  Pay_Scalenan  Work_Life_balancenan  VAR2nan  VAR4nan  \n",
       "0                   0             0                     0        0        0  \n",
       "1                   0             0                     0        0        0  \n",
       "2                   0             0                     0        0        0  \n",
       "3                   0             0                     0        0        0  \n",
       "4                   0             0                     0        0        0  "
      ]
     },
     "execution_count": 156,
     "metadata": {},
     "output_type": "execute_result"
    }
   ],
   "source": [
    "#Encoding Categorical Data\n",
    "categorical_features = [feature for feature in X_test.columns if X_test[feature].dtype=='O']\n",
    "le = LabelEncoder()\n",
    "for feature in categorical_features:\n",
    "    X_test[feature] = le.fit_transform(X_test[feature])\n",
    "X_test.head()"
   ]
  },
  {
   "cell_type": "code",
   "execution_count": 163,
   "metadata": {},
   "outputs": [
    {
     "data": {
      "text/plain": [
       "array([[<matplotlib.axes._subplots.AxesSubplot object at 0x000001C320C9D0B8>,\n",
       "        <matplotlib.axes._subplots.AxesSubplot object at 0x000001C320CAD940>,\n",
       "        <matplotlib.axes._subplots.AxesSubplot object at 0x000001C320CCA240>,\n",
       "        <matplotlib.axes._subplots.AxesSubplot object at 0x000001C320CE87F0>,\n",
       "        <matplotlib.axes._subplots.AxesSubplot object at 0x000001C320CF4A58>],\n",
       "       [<matplotlib.axes._subplots.AxesSubplot object at 0x000001C320D01CC0>,\n",
       "        <matplotlib.axes._subplots.AxesSubplot object at 0x000001C320D0FF28>,\n",
       "        <matplotlib.axes._subplots.AxesSubplot object at 0x000001C3211401D0>,\n",
       "        <matplotlib.axes._subplots.AxesSubplot object at 0x000001C32114C438>,\n",
       "        <matplotlib.axes._subplots.AxesSubplot object at 0x000001C3211596A0>],\n",
       "       [<matplotlib.axes._subplots.AxesSubplot object at 0x000001C321166908>,\n",
       "        <matplotlib.axes._subplots.AxesSubplot object at 0x000001C321173B70>,\n",
       "        <matplotlib.axes._subplots.AxesSubplot object at 0x000001C321180DD8>,\n",
       "        <matplotlib.axes._subplots.AxesSubplot object at 0x000001C321190080>,\n",
       "        <matplotlib.axes._subplots.AxesSubplot object at 0x000001C32119D2E8>],\n",
       "       [<matplotlib.axes._subplots.AxesSubplot object at 0x000001C3211AA550>,\n",
       "        <matplotlib.axes._subplots.AxesSubplot object at 0x000001C3211B67B8>,\n",
       "        <matplotlib.axes._subplots.AxesSubplot object at 0x000001C3211C4A20>,\n",
       "        <matplotlib.axes._subplots.AxesSubplot object at 0x000001C3211D0C88>,\n",
       "        <matplotlib.axes._subplots.AxesSubplot object at 0x000001C3211DDEF0>],\n",
       "       [<matplotlib.axes._subplots.AxesSubplot object at 0x000001C3211ED198>,\n",
       "        <matplotlib.axes._subplots.AxesSubplot object at 0x000001C3211FA400>,\n",
       "        <matplotlib.axes._subplots.AxesSubplot object at 0x000001C31A900908>,\n",
       "        <matplotlib.axes._subplots.AxesSubplot object at 0x000001C320CCA128>,\n",
       "        <matplotlib.axes._subplots.AxesSubplot object at 0x000001C320CB0908>],\n",
       "       [<matplotlib.axes._subplots.AxesSubplot object at 0x000001C320C9D160>,\n",
       "        <matplotlib.axes._subplots.AxesSubplot object at 0x000001C31FD10128>,\n",
       "        <matplotlib.axes._subplots.AxesSubplot object at 0x000001C31FCF48D0>,\n",
       "        <matplotlib.axes._subplots.AxesSubplot object at 0x000001C31F66CAC8>,\n",
       "        <matplotlib.axes._subplots.AxesSubplot object at 0x000001C31F6383C8>]],\n",
       "      dtype=object)"
      ]
     },
     "execution_count": 163,
     "metadata": {},
     "output_type": "execute_result"
    },
    {
     "data": {
      "image/png": "[encoded data removed]",
      "text/plain": [
       "<Figure size 432x288 with 30 Axes>"
      ]
     },
     "metadata": {
      "needs_background": "light"
     },
     "output_type": "display_data"
    }
   ],
   "source": [
    "# Fetaure Engineering test data\n",
    "pt = PowerTransformer(method='yeo-johnson')\n",
    "X_test_transformed = pd.DataFrame(pt.fit_transform(X_test))\n",
    "X_test_transformed.columns = X_test.columns\n",
    "X_test_transformed.hist()"
   ]
  },
  {
   "cell_type": "code",
   "execution_count": 164,
   "metadata": {},
   "outputs": [
    {
     "data": {
      "text/html": [
       "<div>\n",
       "<style scoped>\n",
       "    .dataframe tbody tr th:only-of-type {\n",
       "        vertical-align: middle;\n",
       "    }\n",
       "\n",
       "    .dataframe tbody tr th {\n",
       "        vertical-align: top;\n",
       "    }\n",
       "\n",
       "    .dataframe thead th {\n",
       "        text-align: right;\n",
       "    }\n",
       "</style>\n",
       "<table border=\"1\" class=\"dataframe\">\n",
       "  <thead>\n",
       "    <tr style=\"text-align: right;\">\n",
       "      <th></th>\n",
       "      <th>Gender</th>\n",
       "      <th>Age</th>\n",
       "      <th>Education_Level</th>\n",
       "      <th>Relationship_Status</th>\n",
       "      <th>Hometown</th>\n",
       "      <th>Unit</th>\n",
       "      <th>Decision_skill_possess</th>\n",
       "      <th>Time_of_service</th>\n",
       "      <th>Time_since_promotion</th>\n",
       "      <th>growth_rate</th>\n",
       "      <th>Travel_Rate</th>\n",
       "      <th>Post_Level</th>\n",
       "      <th>Pay_Scale</th>\n",
       "      <th>Compensation_and_Benefits</th>\n",
       "      <th>Work_Life_balance</th>\n",
       "      <th>VAR1</th>\n",
       "      <th>VAR2</th>\n",
       "      <th>VAR3</th>\n",
       "      <th>VAR4</th>\n",
       "      <th>VAR5</th>\n",
       "      <th>VAR6</th>\n",
       "      <th>VAR7</th>\n",
       "      <th>Agenan</th>\n",
       "      <th>Time_of_servicenan</th>\n",
       "      <th>Pay_Scalenan</th>\n",
       "      <th>Work_Life_balancenan</th>\n",
       "      <th>VAR2nan</th>\n",
       "      <th>VAR4nan</th>\n",
       "    </tr>\n",
       "  </thead>\n",
       "  <tbody>\n",
       "    <tr>\n",
       "      <th>0</th>\n",
       "      <td>-0.857969</td>\n",
       "      <td>-0.510487</td>\n",
       "      <td>1.832431</td>\n",
       "      <td>1.353832</td>\n",
       "      <td>0.705070</td>\n",
       "      <td>1.118052</td>\n",
       "      <td>0.526023</td>\n",
       "      <td>-0.458469</td>\n",
       "      <td>1.354317</td>\n",
       "      <td>-1.049315</td>\n",
       "      <td>0.332884</td>\n",
       "      <td>1.720867</td>\n",
       "      <td>-0.999080</td>\n",
       "      <td>-0.495306</td>\n",
       "      <td>-1.291001</td>\n",
       "      <td>-0.116121</td>\n",
       "      <td>-1.036160</td>\n",
       "      <td>-0.491620</td>\n",
       "      <td>0.143047</td>\n",
       "      <td>-2.030856</td>\n",
       "      <td>0.738911</td>\n",
       "      <td>0.849705</td>\n",
       "      <td>-0.238139</td>\n",
       "      <td>-0.132812</td>\n",
       "      <td>-0.031639</td>\n",
       "      <td>-0.040859</td>\n",
       "      <td>-0.279237</td>\n",
       "      <td>-0.332097</td>\n",
       "    </tr>\n",
       "    <tr>\n",
       "      <th>1</th>\n",
       "      <td>1.165543</td>\n",
       "      <td>1.713405</td>\n",
       "      <td>-1.165662</td>\n",
       "      <td>1.353832</td>\n",
       "      <td>-0.134505</td>\n",
       "      <td>-0.866675</td>\n",
       "      <td>1.290081</td>\n",
       "      <td>1.934083</td>\n",
       "      <td>-0.319829</td>\n",
       "      <td>1.503352</td>\n",
       "      <td>0.332884</td>\n",
       "      <td>-1.623898</td>\n",
       "      <td>-2.234102</td>\n",
       "      <td>-0.495306</td>\n",
       "      <td>-1.291001</td>\n",
       "      <td>1.157396</td>\n",
       "      <td>-1.036160</td>\n",
       "      <td>0.684304</td>\n",
       "      <td>-1.734467</td>\n",
       "      <td>-0.881263</td>\n",
       "      <td>0.738911</td>\n",
       "      <td>-1.363045</td>\n",
       "      <td>-0.238139</td>\n",
       "      <td>-0.132812</td>\n",
       "      <td>-0.031639</td>\n",
       "      <td>-0.040859</td>\n",
       "      <td>-0.279237</td>\n",
       "      <td>-0.332097</td>\n",
       "    </tr>\n",
       "    <tr>\n",
       "      <th>2</th>\n",
       "      <td>1.165543</td>\n",
       "      <td>0.949260</td>\n",
       "      <td>-0.288238</td>\n",
       "      <td>-0.738644</td>\n",
       "      <td>0.705070</td>\n",
       "      <td>1.327473</td>\n",
       "      <td>1.290081</td>\n",
       "      <td>0.879006</td>\n",
       "      <td>0.537071</td>\n",
       "      <td>-1.401384</td>\n",
       "      <td>-1.342662</td>\n",
       "      <td>-1.623898</td>\n",
       "      <td>0.931645</td>\n",
       "      <td>0.923594</td>\n",
       "      <td>-1.291001</td>\n",
       "      <td>1.157396</td>\n",
       "      <td>-0.261449</td>\n",
       "      <td>0.684304</td>\n",
       "      <td>0.143047</td>\n",
       "      <td>-2.030856</td>\n",
       "      <td>1.853447</td>\n",
       "      <td>-0.259305</td>\n",
       "      <td>-0.238139</td>\n",
       "      <td>-0.132812</td>\n",
       "      <td>-0.031639</td>\n",
       "      <td>-0.040859</td>\n",
       "      <td>-0.279237</td>\n",
       "      <td>-0.332097</td>\n",
       "    </tr>\n",
       "    <tr>\n",
       "      <th>3</th>\n",
       "      <td>1.165543</td>\n",
       "      <td>0.821321</td>\n",
       "      <td>1.832431</td>\n",
       "      <td>1.353832</td>\n",
       "      <td>1.530541</td>\n",
       "      <td>-0.156702</td>\n",
       "      <td>-1.409797</td>\n",
       "      <td>0.036480</td>\n",
       "      <td>1.354317</td>\n",
       "      <td>-1.188229</td>\n",
       "      <td>0.332884</td>\n",
       "      <td>-1.623898</td>\n",
       "      <td>-1.850740</td>\n",
       "      <td>-2.753506</td>\n",
       "      <td>1.324758</td>\n",
       "      <td>-0.116121</td>\n",
       "      <td>-0.261449</td>\n",
       "      <td>0.684304</td>\n",
       "      <td>0.143047</td>\n",
       "      <td>-0.881263</td>\n",
       "      <td>0.738911</td>\n",
       "      <td>-0.259305</td>\n",
       "      <td>-0.238139</td>\n",
       "      <td>-0.132812</td>\n",
       "      <td>-0.031639</td>\n",
       "      <td>-0.040859</td>\n",
       "      <td>-0.279237</td>\n",
       "      <td>-0.332097</td>\n",
       "    </tr>\n",
       "    <tr>\n",
       "      <th>4</th>\n",
       "      <td>-0.857969</td>\n",
       "      <td>0.416979</td>\n",
       "      <td>-0.288238</td>\n",
       "      <td>-0.738644</td>\n",
       "      <td>-0.993432</td>\n",
       "      <td>1.118052</td>\n",
       "      <td>0.526023</td>\n",
       "      <td>0.140400</td>\n",
       "      <td>1.354317</td>\n",
       "      <td>0.052788</td>\n",
       "      <td>0.332884</td>\n",
       "      <td>0.237577</td>\n",
       "      <td>-1.850740</td>\n",
       "      <td>-0.495306</td>\n",
       "      <td>1.324758</td>\n",
       "      <td>1.157396</td>\n",
       "      <td>1.961852</td>\n",
       "      <td>0.684304</td>\n",
       "      <td>0.143047</td>\n",
       "      <td>-0.881263</td>\n",
       "      <td>-0.216509</td>\n",
       "      <td>0.849705</td>\n",
       "      <td>-0.238139</td>\n",
       "      <td>-0.132812</td>\n",
       "      <td>-0.031639</td>\n",
       "      <td>-0.040859</td>\n",
       "      <td>-0.279237</td>\n",
       "      <td>-0.332097</td>\n",
       "    </tr>\n",
       "  </tbody>\n",
       "</table>\n",
       "</div>"
      ],
      "text/plain": [
       "     Gender       Age  Education_Level  Relationship_Status  Hometown  \\\n",
       "0 -0.857969 -0.510487         1.832431             1.353832  0.705070   \n",
       "1  1.165543  1.713405        -1.165662             1.353832 -0.134505   \n",
       "2  1.165543  0.949260        -0.288238            -0.738644  0.705070   \n",
       "3  1.165543  0.821321         1.832431             1.353832  1.530541   \n",
       "4 -0.857969  0.416979        -0.288238            -0.738644 -0.993432   \n",
       "\n",
       "       Unit  Decision_skill_possess  Time_of_service  Time_since_promotion  \\\n",
       "0  1.118052                0.526023        -0.458469              1.354317   \n",
       "1 -0.866675                1.290081         1.934083             -0.319829   \n",
       "2  1.327473                1.290081         0.879006              0.537071   \n",
       "3 -0.156702               -1.409797         0.036480              1.354317   \n",
       "4  1.118052                0.526023         0.140400              1.354317   \n",
       "\n",
       "   growth_rate  Travel_Rate  Post_Level  Pay_Scale  Compensation_and_Benefits  \\\n",
       "0    -1.049315     0.332884    1.720867  -0.999080                  -0.495306   \n",
       "1     1.503352     0.332884   -1.623898  -2.234102                  -0.495306   \n",
       "2    -1.401384    -1.342662   -1.623898   0.931645                   0.923594   \n",
       "3    -1.188229     0.332884   -1.623898  -1.850740                  -2.753506   \n",
       "4     0.052788     0.332884    0.237577  -1.850740                  -0.495306   \n",
       "\n",
       "   Work_Life_balance      VAR1      VAR2      VAR3      VAR4      VAR5  \\\n",
       "0          -1.291001 -0.116121 -1.036160 -0.491620  0.143047 -2.030856   \n",
       "1          -1.291001  1.157396 -1.036160  0.684304 -1.734467 -0.881263   \n",
       "2          -1.291001  1.157396 -0.261449  0.684304  0.143047 -2.030856   \n",
       "3           1.324758 -0.116121 -0.261449  0.684304  0.143047 -0.881263   \n",
       "4           1.324758  1.157396  1.961852  0.684304  0.143047 -0.881263   \n",
       "\n",
       "       VAR6      VAR7    Agenan  Time_of_servicenan  Pay_Scalenan  \\\n",
       "0  0.738911  0.849705 -0.238139           -0.132812     -0.031639   \n",
       "1  0.738911 -1.363045 -0.238139           -0.132812     -0.031639   \n",
       "2  1.853447 -0.259305 -0.238139           -0.132812     -0.031639   \n",
       "3  0.738911 -0.259305 -0.238139           -0.132812     -0.031639   \n",
       "4 -0.216509  0.849705 -0.238139           -0.132812     -0.031639   \n",
       "\n",
       "   Work_Life_balancenan   VAR2nan   VAR4nan  \n",
       "0             -0.040859 -0.279237 -0.332097  \n",
       "1             -0.040859 -0.279237 -0.332097  \n",
       "2             -0.040859 -0.279237 -0.332097  \n",
       "3             -0.040859 -0.279237 -0.332097  \n",
       "4             -0.040859 -0.279237 -0.332097  "
      ]
     },
     "execution_count": 164,
     "metadata": {},
     "output_type": "execute_result"
    }
   ],
   "source": [
    "X_test_transformed.head()"
   ]
  },
  {
   "cell_type": "code",
   "execution_count": 174,
   "metadata": {},
   "outputs": [],
   "source": [
    "# According feature selection in training data, 'Unit' column was selected for predicting 'Attrition Rate'. Therefore, using that column in test data as well.\n",
    "X_test_data = pd.DataFrame(X_test_transformed.Unit)"
   ]
  },
  {
   "cell_type": "code",
   "execution_count": 168,
   "metadata": {},
   "outputs": [
    {
     "data": {
      "text/plain": [
       "LinearRegression(copy_X=True, fit_intercept=True, n_jobs=None, normalize=False)"
      ]
     },
     "execution_count": 168,
     "metadata": {},
     "output_type": "execute_result"
    }
   ],
   "source": [
    "# Final Model\n",
    "linear_model = LinearRegression()\n",
    "linear_model.fit(X_train,y)"
   ]
  },
  {
   "cell_type": "code",
   "execution_count": 176,
   "metadata": {},
   "outputs": [],
   "source": [
    "# Final Predictions\n",
    "final_predictions = linear_model.predict(X_test_data)"
   ]
  },
  {
   "cell_type": "code",
   "execution_count": 177,
   "metadata": {},
   "outputs": [
    {
     "data": {
      "text/plain": [
       "array([0.19651418, 0.18384296, 0.1978512 , ..., 0.18626358, 0.18384296,\n",
       "       0.1978512 ])"
      ]
     },
     "execution_count": 177,
     "metadata": {},
     "output_type": "execute_result"
    }
   ],
   "source": [
    "final_predictions"
   ]
  },
  {
   "cell_type": "code",
   "execution_count": 178,
   "metadata": {},
   "outputs": [
    {
     "data": {
      "text/html": [
       "<div>\n",
       "<style scoped>\n",
       "    .dataframe tbody tr th:only-of-type {\n",
       "        vertical-align: middle;\n",
       "    }\n",
       "\n",
       "    .dataframe tbody tr th {\n",
       "        vertical-align: top;\n",
       "    }\n",
       "\n",
       "    .dataframe thead th {\n",
       "        text-align: right;\n",
       "    }\n",
       "</style>\n",
       "<table border=\"1\" class=\"dataframe\">\n",
       "  <thead>\n",
       "    <tr style=\"text-align: right;\">\n",
       "      <th></th>\n",
       "      <th>Employee_ID</th>\n",
       "      <th>Attrition_rate</th>\n",
       "    </tr>\n",
       "  </thead>\n",
       "  <tbody>\n",
       "    <tr>\n",
       "      <th>0</th>\n",
       "      <td>EID_22713</td>\n",
       "      <td>0.196514</td>\n",
       "    </tr>\n",
       "    <tr>\n",
       "      <th>1</th>\n",
       "      <td>EID_9658</td>\n",
       "      <td>0.183843</td>\n",
       "    </tr>\n",
       "    <tr>\n",
       "      <th>2</th>\n",
       "      <td>EID_22203</td>\n",
       "      <td>0.197851</td>\n",
       "    </tr>\n",
       "    <tr>\n",
       "      <th>3</th>\n",
       "      <td>EID_7652</td>\n",
       "      <td>0.188376</td>\n",
       "    </tr>\n",
       "    <tr>\n",
       "      <th>4</th>\n",
       "      <td>EID_6516</td>\n",
       "      <td>0.196514</td>\n",
       "    </tr>\n",
       "  </tbody>\n",
       "</table>\n",
       "</div>"
      ],
      "text/plain": [
       "  Employee_ID  Attrition_rate\n",
       "0   EID_22713        0.196514\n",
       "1    EID_9658        0.183843\n",
       "2   EID_22203        0.197851\n",
       "3    EID_7652        0.188376\n",
       "4    EID_6516        0.196514"
      ]
     },
     "execution_count": 178,
     "metadata": {},
     "output_type": "execute_result"
    }
   ],
   "source": [
    "# Orgainsing Final Predictions\n",
    "predictions_result=pd.DataFrame(final_predictions)\n",
    "predictions_result.columns=[\"Attrition_rate\"]\n",
    "predictions_result1=pd.DataFrame(test_data[\"Employee_ID\"])\n",
    "predictions_result1.columns=[\"Employee_ID\"]\n",
    "predictions_result=pd.concat([predictions_result1,predictions_result],axis=1)\n",
    "predictions_result.head()"
   ]
  },
  {
   "cell_type": "code",
   "execution_count": null,
   "metadata": {},
   "outputs": [],
   "source": []
  }
 ],
 "metadata": {
  "kernelspec": {
   "display_name": "Python 3",
   "language": "python",
   "name": "python3"
  },
  "language_info": {
   "codemirror_mode": {
    "name": "ipython",
    "version": 3
   },
   "file_extension": ".py",
   "mimetype": "text/x-python",
   "name": "python",
   "nbconvert_exporter": "python",
   "pygments_lexer": "ipython3",
   "version": "3.5.2"
  }
 },
 "nbformat": 4,
 "nbformat_minor": 4
}
